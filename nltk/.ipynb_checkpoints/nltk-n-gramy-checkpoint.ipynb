{
 "cells": [
  {
   "cell_type": "markdown",
   "metadata": {},
   "source": [
    "N-gramy to sekwencje następujących po sobie elementów. N = ilość elementów występujacych w sekwencji:\n",
    "\n",
    "* 1-gram — unigram,\n",
    "* 2-gram — bigram,\n",
    "* 3-gram — trigram,\n",
    "* 4-gram, 5-gram, itd."
   ]
  },
  {
   "cell_type": "code",
   "execution_count": 16,
   "metadata": {},
   "outputs": [],
   "source": [
    "tokens = \"W tym zdaniu jest kilka wyrazów o róznej długości\".split(\" \")\n",
    "# bigram\n",
    "n = 2"
   ]
  },
  {
   "cell_type": "markdown",
   "metadata": {},
   "source": [
    "Stwórz 4 tablice, które ropoczynać będzie kolejny token sekwencji"
   ]
  },
  {
   "cell_type": "code",
   "execution_count": 17,
   "metadata": {},
   "outputs": [
    {
     "data": {
      "text/plain": [
       "[['W', 'tym', 'zdaniu', 'jest', 'kilka', 'wyrazów', 'o', 'róznej'],\n",
       " ['tym', 'zdaniu', 'jest', 'kilka', 'wyrazów', 'o', 'róznej', 'długości']]"
      ]
     },
     "execution_count": 17,
     "metadata": {},
     "output_type": "execute_result"
    }
   ],
   "source": [
    "sequences = [tokens[i:i+len(tokens)-n+1] for i in range(n)]\n",
    "sequences"
   ]
  },
  {
   "cell_type": "code",
   "execution_count": 18,
   "metadata": {},
   "outputs": [
    {
     "data": {
      "text/plain": [
       "[('W', 'tym'),\n",
       " ('tym', 'zdaniu'),\n",
       " ('zdaniu', 'jest'),\n",
       " ('jest', 'kilka'),\n",
       " ('kilka', 'wyrazów'),\n",
       " ('wyrazów', 'o'),\n",
       " ('o', 'róznej'),\n",
       " ('róznej', 'długości')]"
      ]
     },
     "execution_count": 18,
     "metadata": {},
     "output_type": "execute_result"
    }
   ],
   "source": [
    "[gram for gram in zip(*sequences)]"
   ]
  },
  {
   "cell_type": "markdown",
   "metadata": {},
   "source": [
    "#### Tworzenie n-gramów z pakietem nltk"
   ]
  },
  {
   "cell_type": "code",
   "execution_count": 26,
   "metadata": {},
   "outputs": [
    {
     "name": "stdout",
     "output_type": "stream",
     "text": [
      "('W', 'tym', 'zdaniu', 'jest')\n",
      "('tym', 'zdaniu', 'jest', 'kilka')\n",
      "('zdaniu', 'jest', 'kilka', 'wyrazów')\n",
      "('jest', 'kilka', 'wyrazów', 'o')\n",
      "('kilka', 'wyrazów', 'o', 'róznej')\n",
      "('wyrazów', 'o', 'róznej', 'długości')\n"
     ]
    }
   ],
   "source": [
    "from nltk.util import ngrams\n",
    "\n",
    "# metoda przyjmuje argument okreslający liczbę n-gramów. w tym przypadku = 4\n",
    "print(*ngrams(tokens, 4), sep=\"\\n\")"
   ]
  },
  {
   "cell_type": "code",
   "execution_count": 27,
   "metadata": {},
   "outputs": [
    {
     "name": "stdout",
     "output_type": "stream",
     "text": [
      "('W', 'tym', 'zdaniu')\n",
      "('tym', 'zdaniu', 'jest')\n",
      "('zdaniu', 'jest', 'kilka')\n",
      "('jest', 'kilka', 'wyrazów')\n",
      "('kilka', 'wyrazów', 'o')\n",
      "('wyrazów', 'o', 'róznej')\n",
      "('o', 'róznej', 'długości')\n"
     ]
    }
   ],
   "source": [
    "from nltk.util import trigrams\n",
    "\n",
    "print(*trigrams(tokens), sep=\"\\n\")"
   ]
  },
  {
   "cell_type": "code",
   "execution_count": 28,
   "metadata": {},
   "outputs": [
    {
     "name": "stdout",
     "output_type": "stream",
     "text": [
      "('W', 'tym')\n",
      "('tym', 'zdaniu')\n",
      "('zdaniu', 'jest')\n",
      "('jest', 'kilka')\n",
      "('kilka', 'wyrazów')\n",
      "('wyrazów', 'o')\n",
      "('o', 'róznej')\n",
      "('róznej', 'długości')\n"
     ]
    }
   ],
   "source": [
    "from nltk.util import bigrams\n",
    "\n",
    "print(*bigrams(tokens), sep=\"\\n\")"
   ]
  },
  {
   "cell_type": "code",
   "execution_count": 30,
   "metadata": {},
   "outputs": [
    {
     "name": "stdout",
     "output_type": "stream",
     "text": [
      "('W',)\n",
      "('tym',)\n",
      "('zdaniu',)\n",
      "('jest',)\n",
      "('kilka',)\n",
      "('wyrazów',)\n",
      "('o',)\n",
      "('róznej',)\n",
      "('długości',)\n",
      "('W', 'tym')\n",
      "('tym', 'zdaniu')\n",
      "('zdaniu', 'jest')\n",
      "('jest', 'kilka')\n",
      "('kilka', 'wyrazów')\n",
      "('wyrazów', 'o')\n",
      "('o', 'róznej')\n",
      "('róznej', 'długości')\n",
      "('W', 'tym', 'zdaniu')\n",
      "('tym', 'zdaniu', 'jest')\n",
      "('zdaniu', 'jest', 'kilka')\n",
      "('jest', 'kilka', 'wyrazów')\n",
      "('kilka', 'wyrazów', 'o')\n",
      "('wyrazów', 'o', 'róznej')\n",
      "('o', 'róznej', 'długości')\n"
     ]
    }
   ],
   "source": [
    "from nltk.util import everygrams\n",
    "# metoda przyjmuje argument okreslający zakres n-gramów. w tym przypadku pd 1 do 3\n",
    "print(*everygrams(tokens, 1, 3), sep=\"\\n\")"
   ]
  },
  {
   "cell_type": "code",
   "execution_count": null,
   "metadata": {},
   "outputs": [],
   "source": []
  }
 ],
 "metadata": {
  "kernelspec": {
   "display_name": "Python 3",
   "language": "python",
   "name": "python3"
  },
  "language_info": {
   "codemirror_mode": {
    "name": "ipython",
    "version": 3
   },
   "file_extension": ".py",
   "mimetype": "text/x-python",
   "name": "python",
   "nbconvert_exporter": "python",
   "pygments_lexer": "ipython3",
   "version": "3.6.9"
  }
 },
 "nbformat": 4,
 "nbformat_minor": 4
}

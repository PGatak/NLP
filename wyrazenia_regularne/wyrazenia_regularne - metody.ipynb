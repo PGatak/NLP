{
 "cells": [
  {
   "cell_type": "code",
   "execution_count": 1,
   "metadata": {},
   "outputs": [],
   "source": [
    "import re"
   ]
  },
  {
   "cell_type": "markdown",
   "metadata": {},
   "source": [
    "# METODY"
   ]
  },
  {
   "cell_type": "markdown",
   "metadata": {},
   "source": [
    "### search - wyszukaj pierwsze dopasowanie"
   ]
  },
  {
   "cell_type": "code",
   "execution_count": 2,
   "metadata": {},
   "outputs": [
    {
     "name": "stdout",
     "output_type": "stream",
     "text": [
      "<_sre.SRE_Match object; span=(5, 15), match='45 444 456'>\n",
      "45 444 456\n"
     ]
    }
   ],
   "source": [
    "m = re.search(\"[0-9]{2} [0-9]{3} [0-9]{3}\", \"tel. 45 444 456, tel. 45 674 896\")\n",
    "print(m)\n",
    "print(m.group())"
   ]
  },
  {
   "cell_type": "markdown",
   "metadata": {},
   "source": [
    "### match - wysuszaj na początku ciągu"
   ]
  },
  {
   "cell_type": "code",
   "execution_count": 3,
   "metadata": {},
   "outputs": [
    {
     "name": "stdout",
     "output_type": "stream",
     "text": [
      "None\n"
     ]
    }
   ],
   "source": [
    "m = re.match(\"[0-9]{2} [0-9]{3} [0-9]{3}\", \"tel. 45 444 456\")\n",
    "print(m)"
   ]
  },
  {
   "cell_type": "markdown",
   "metadata": {},
   "source": [
    "### fullmatch - sprawdź czy wyrażenie pasuje w całości"
   ]
  },
  {
   "cell_type": "code",
   "execution_count": 4,
   "metadata": {},
   "outputs": [
    {
     "name": "stdout",
     "output_type": "stream",
     "text": [
      "None\n"
     ]
    }
   ],
   "source": [
    "m = re.fullmatch(\"[0-9]{2} [0-9]{3} [0-9]{3}\", \"tel. 45 444 456\")\n",
    "print(m)"
   ]
  },
  {
   "cell_type": "markdown",
   "metadata": {},
   "source": [
    "### findall / finditer (iterator) - wyszukaj wszystkie dopasowania"
   ]
  },
  {
   "cell_type": "code",
   "execution_count": 5,
   "metadata": {},
   "outputs": [],
   "source": [
    "m = re.findall(\"[0-9]{2} [0-9]{3} [0-9]{3}\", \"tel. 45 444 456, tel. 45 674 896\")"
   ]
  },
  {
   "cell_type": "code",
   "execution_count": 6,
   "metadata": {},
   "outputs": [
    {
     "name": "stdout",
     "output_type": "stream",
     "text": [
      "<_sre.SRE_Match object; span=(5, 15), match='45 444 456'>\n",
      "<_sre.SRE_Match object; span=(22, 32), match='45 674 896'>\n"
     ]
    }
   ],
   "source": [
    "for m in re.finditer(\"[0-9]{2} [0-9]{3} [0-9]{3}\", \"tel. 45 444 456, tel. 45 674 896\"):\n",
    "    print(m)"
   ]
  },
  {
   "cell_type": "markdown",
   "metadata": {},
   "source": [
    "### split - ustaw dopasowania jako separatory i podziel napis"
   ]
  },
  {
   "cell_type": "code",
   "execution_count": 7,
   "metadata": {},
   "outputs": [
    {
     "data": {
      "text/plain": [
       "['', 'Polska ', 'Francja ', 'Belgia']"
      ]
     },
     "execution_count": 7,
     "metadata": {},
     "output_type": "execute_result"
    }
   ],
   "source": [
    "m = re.split(\"[0-9]{2} \", \"22 Polska 44 Francja 55 Belgia\")\n",
    "m"
   ]
  },
  {
   "cell_type": "markdown",
   "metadata": {},
   "source": [
    "gdy użyjemy okrągłych nawiasów, to zwrócone zostaną również separatory"
   ]
  },
  {
   "cell_type": "code",
   "execution_count": 8,
   "metadata": {},
   "outputs": [
    {
     "data": {
      "text/plain": [
       "['', '22 ', 'Polska ', '44 ', 'Francja ', '55 ', 'Belgia']"
      ]
     },
     "execution_count": 8,
     "metadata": {},
     "output_type": "execute_result"
    }
   ],
   "source": [
    "re.split(\"([0-9]{1}[0-9]{1} )\", \"22 Polska 44 Francja 55 Belgia\")"
   ]
  },
  {
   "cell_type": "code",
   "execution_count": 9,
   "metadata": {},
   "outputs": [
    {
     "data": {
      "text/plain": [
       "['', '2', 'Polska ', '4', 'Francja ', '5', 'Belgia']"
      ]
     },
     "execution_count": 9,
     "metadata": {},
     "output_type": "execute_result"
    }
   ],
   "source": [
    "re.split(\"([0-9]{1})[0-9]{1} \", \"22 Polska 44 Francja 55 Belgia\")"
   ]
  },
  {
   "cell_type": "markdown",
   "metadata": {},
   "source": [
    "### sub / subn - podmiana dopasowania"
   ]
  },
  {
   "cell_type": "code",
   "execution_count": 10,
   "metadata": {},
   "outputs": [
    {
     "data": {
      "text/plain": [
       "'NR Polska NR Francja NR Belgia'"
      ]
     },
     "execution_count": 10,
     "metadata": {},
     "output_type": "execute_result"
    }
   ],
   "source": [
    "re.sub(\"[0-9]{2}\", \"NR\", \"22 Polska 44 Francja 55 Belgia\")"
   ]
  },
  {
   "cell_type": "code",
   "execution_count": 11,
   "metadata": {},
   "outputs": [],
   "source": [
    "def change_numbers(match):\n",
    "    text = match.group()\n",
    "    if text.startswith(\"2\"):\n",
    "        return \"dwa\"\n",
    "    elif text.startswith(\"4\"):\n",
    "        return \"cztery\"\n",
    "    else:\n",
    "        return \"piec\""
   ]
  },
  {
   "cell_type": "code",
   "execution_count": 12,
   "metadata": {},
   "outputs": [
    {
     "data": {
      "text/plain": [
       "'dwa Polska cztery Francja piec Belgia'"
      ]
     },
     "execution_count": 12,
     "metadata": {},
     "output_type": "execute_result"
    }
   ],
   "source": [
    "re.sub(\"[0-9]{2}\", change_numbers, \"22 Polska 44 Francja 55 Belgia\")"
   ]
  },
  {
   "cell_type": "markdown",
   "metadata": {},
   "source": [
    "zwróć wartość i policz ilość wystąpień"
   ]
  },
  {
   "cell_type": "code",
   "execution_count": 13,
   "metadata": {},
   "outputs": [
    {
     "data": {
      "text/plain": [
       "('NR Polska NR Francja NR Belgia', 3)"
      ]
     },
     "execution_count": 13,
     "metadata": {},
     "output_type": "execute_result"
    }
   ],
   "source": [
    "re.subn(\"[0-9]{2}\", \"NR\", \"22 Polska 44 Francja 55 Belgia\")"
   ]
  },
  {
   "cell_type": "markdown",
   "metadata": {},
   "source": [
    "### Kompilowanie reguł"
   ]
  },
  {
   "cell_type": "code",
   "execution_count": 14,
   "metadata": {},
   "outputs": [
    {
     "data": {
      "text/plain": [
       "_sre.SRE_Pattern"
      ]
     },
     "execution_count": 14,
     "metadata": {},
     "output_type": "execute_result"
    }
   ],
   "source": [
    "pattern_find_numbers = re.compile(\"[0-9]{2}\")\n",
    "pattern_find_numbers.__class__"
   ]
  },
  {
   "cell_type": "code",
   "execution_count": 15,
   "metadata": {},
   "outputs": [
    {
     "data": {
      "text/plain": [
       "'NR Polska NR Francja NR Belgia'"
      ]
     },
     "execution_count": 15,
     "metadata": {},
     "output_type": "execute_result"
    }
   ],
   "source": [
    "pattern_find_numbers.sub(\"NR\", \"22 Polska 44 Francja 55 Belgia\")"
   ]
  },
  {
   "cell_type": "markdown",
   "metadata": {},
   "source": [
    "Czas wykonania, gdy wzorzec jest kompilowany za każdym razem:"
   ]
  },
  {
   "cell_type": "code",
   "execution_count": 16,
   "metadata": {},
   "outputs": [
    {
     "name": "stdout",
     "output_type": "stream",
     "text": [
      "CPU times: user 5.24 s, sys: 0 ns, total: 5.24 s\n",
      "Wall time: 5.24 s\n"
     ]
    }
   ],
   "source": [
    "%%time\n",
    "for n in range(10**6):\n",
    "    re.sub(\"[0-9]{2}\", \"NR\", \"22 Polska 44 Francja 55 Belgia\")"
   ]
  },
  {
   "cell_type": "markdown",
   "metadata": {},
   "source": [
    "Czas wykonania, gdy wzorzec jest raz skompilowany a następnie użyty wiele razy:"
   ]
  },
  {
   "cell_type": "code",
   "execution_count": 17,
   "metadata": {},
   "outputs": [
    {
     "name": "stdout",
     "output_type": "stream",
     "text": [
      "CPU times: user 4.31 s, sys: 2.36 ms, total: 4.31 s\n",
      "Wall time: 4.31 s\n"
     ]
    }
   ],
   "source": [
    "%%time\n",
    "pattern_postal_code = re.compile(\"[0-9]{2}\")\n",
    "for n in range(10**6):\n",
    "    pattern_postal_code.sub(\"NR\", \"22 Polska 44 Francja 55 Belgia\")"
   ]
  }
 ],
 "metadata": {
  "kernelspec": {
   "display_name": "Python 3",
   "language": "python",
   "name": "python3"
  },
  "language_info": {
   "codemirror_mode": {
    "name": "ipython",
    "version": 3
   },
   "file_extension": ".py",
   "mimetype": "text/x-python",
   "name": "python",
   "nbconvert_exporter": "python",
   "pygments_lexer": "ipython3",
   "version": "3.6.9"
  }
 },
 "nbformat": 4,
 "nbformat_minor": 4
}

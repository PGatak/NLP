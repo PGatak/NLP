{
 "cells": [
  {
   "cell_type": "code",
   "execution_count": 6,
   "metadata": {},
   "outputs": [],
   "source": [
    "import re"
   ]
  },
  {
   "cell_type": "markdown",
   "metadata": {},
   "source": [
    "w skład znaków specjalnych wchodzą:\n",
    "* ```* - zero lub więcej powtórzeń ```\n",
    "* $ - koniec sekwencji\n",
    "* ^ - początek sekwencji\n",
    "* ? - opcjonalne dopasowanie\n",
    "* ```+ - jedno lub więcej powtórzeń```\n",
    "* () - grupy\n",
    "* [] - zbiory\n",
    "<br> <br> \n",
    "Umieszczenie znaków specjalnych w wyrażeniu regfularnym nie spowoduje, że dany znak zostanie dopasowany. Aby dopsaowac znak specjalny, należy poprzedzić go znakiem /```"
   ]
  },
  {
   "cell_type": "code",
   "execution_count": 15,
   "metadata": {},
   "outputs": [
    {
     "name": "stdout",
     "output_type": "stream",
     "text": [
      "<_sre.SRE_Match object; span=(14, 15), match='$'>\n"
     ]
    }
   ],
   "source": [
    "m = re.search(\"\\$\", \"To kosztuje 3 $\")\n",
    "print(m)"
   ]
  },
  {
   "cell_type": "markdown",
   "metadata": {},
   "source": [
    "Można również użyć nawiasów kwadratowych, które oznaczają zbiory do których wspisuje się listę znaków dopasowania"
   ]
  },
  {
   "cell_type": "code",
   "execution_count": 16,
   "metadata": {},
   "outputs": [
    {
     "name": "stdout",
     "output_type": "stream",
     "text": [
      "<_sre.SRE_Match object; span=(14, 15), match='$'>\n"
     ]
    }
   ],
   "source": [
    "m = re.search(\"[$]\", \"To kosztuje 3 $\")\n",
    "print(m)"
   ]
  },
  {
   "cell_type": "code",
   "execution_count": 17,
   "metadata": {},
   "outputs": [
    {
     "name": "stdout",
     "output_type": "stream",
     "text": [
      "<_sre.SRE_Match object; span=(0, 3), match='dom'>\n",
      "<_sre.SRE_Match object; span=(6, 9), match='dom'>\n",
      "<_sre.SRE_Match object; span=(12, 15), match='dom'>\n",
      "<_sre.SRE_Match object; span=(19, 22), match='dom'>\n"
     ]
    }
   ],
   "source": [
    "for m in re.finditer(\"dom\", \"dom, (dom), domek, dom\"):\n",
    "    print(m)"
   ]
  },
  {
   "cell_type": "markdown",
   "metadata": {},
   "source": [
    "^ - dopasuj jeżeli wyrażenie występuje na początku sekwencji"
   ]
  },
  {
   "cell_type": "code",
   "execution_count": 18,
   "metadata": {},
   "outputs": [
    {
     "name": "stdout",
     "output_type": "stream",
     "text": [
      "<_sre.SRE_Match object; span=(0, 3), match='dom'>\n"
     ]
    }
   ],
   "source": [
    "for m in re.finditer(\"^dom\", \"dom, (dom), domek, dom\"):\n",
    "    print(m)"
   ]
  },
  {
   "cell_type": "markdown",
   "metadata": {},
   "source": [
    "$ -  dopasuj jeżeli wyrażenie występuje na końcu sekwencji"
   ]
  },
  {
   "cell_type": "code",
   "execution_count": 22,
   "metadata": {},
   "outputs": [
    {
     "name": "stdout",
     "output_type": "stream",
     "text": [
      "<_sre.SRE_Match object; span=(19, 22), match='dom'>\n"
     ]
    }
   ],
   "source": [
    "for m in re.finditer(\"dom$\", \"dom, (dom), domek, dom\"):\n",
    "    print(m)"
   ]
  },
  {
   "cell_type": "markdown",
   "metadata": {},
   "source": [
    "\\b - znajdź wszystkie dopasowania (znaki interpunkcyjne potraktowane są jako granica)"
   ]
  },
  {
   "cell_type": "code",
   "execution_count": 26,
   "metadata": {},
   "outputs": [
    {
     "name": "stdout",
     "output_type": "stream",
     "text": [
      "<_sre.SRE_Match object; span=(0, 3), match='dom'>\n",
      "<_sre.SRE_Match object; span=(6, 9), match='dom'>\n",
      "<_sre.SRE_Match object; span=(19, 22), match='dom'>\n"
     ]
    }
   ],
   "source": [
    "for m in re.finditer(r\"\\bdom\\b\", \"dom, (dom), domek, dom\"):\n",
    "    print(m)"
   ]
  },
  {
   "cell_type": "markdown",
   "metadata": {},
   "source": [
    "* {n} — dokładnie n powtórzeń,\n",
    "* {n,} — co najmniej n powtórzeń,\n",
    "* {n,m} — od n do m powtórzeń."
   ]
  },
  {
   "cell_type": "code",
   "execution_count": 34,
   "metadata": {},
   "outputs": [
    {
     "data": {
      "text/plain": [
       "['dom', 'dom']"
      ]
     },
     "execution_count": 34,
     "metadata": {},
     "output_type": "execute_result"
    }
   ],
   "source": [
    "re.findall(\"dom\", \"doom, domeek, ddomy\")"
   ]
  },
  {
   "cell_type": "code",
   "execution_count": 40,
   "metadata": {},
   "outputs": [
    {
     "data": {
      "text/plain": [
       "['dom', 'doooom', 'doom']"
      ]
     },
     "execution_count": 40,
     "metadata": {},
     "output_type": "execute_result"
    }
   ],
   "source": [
    "re.findall(\"do+m\", \"dom, doooom, ddoommmmy\")"
   ]
  },
  {
   "cell_type": "code",
   "execution_count": 41,
   "metadata": {},
   "outputs": [
    {
     "data": {
      "text/plain": [
       "['dom', 'doooom', 'doommmm']"
      ]
     },
     "execution_count": 41,
     "metadata": {},
     "output_type": "execute_result"
    }
   ],
   "source": [
    "re.findall(\"do+m*\", \"dom, doooom, ddoommmmy\")"
   ]
  },
  {
   "cell_type": "code",
   "execution_count": null,
   "metadata": {},
   "outputs": [],
   "source": []
  }
 ],
 "metadata": {
  "kernelspec": {
   "display_name": "Python 3",
   "language": "python",
   "name": "python3"
  },
  "language_info": {
   "codemirror_mode": {
    "name": "ipython",
    "version": 3
   },
   "file_extension": ".py",
   "mimetype": "text/x-python",
   "name": "python",
   "nbconvert_exporter": "python",
   "pygments_lexer": "ipython3",
   "version": "3.6.9"
  }
 },
 "nbformat": 4,
 "nbformat_minor": 4
}

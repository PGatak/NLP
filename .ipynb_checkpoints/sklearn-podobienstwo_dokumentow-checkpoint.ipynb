{
 "cells": [
  {
   "cell_type": "code",
   "execution_count": 1,
   "metadata": {},
   "outputs": [],
   "source": [
    "from sklearn.feature_extraction.text import CountVectorizer"
   ]
  },
  {
   "cell_type": "markdown",
   "metadata": {},
   "source": [
    "W wielu przypadku, gdy dokumenty pochodza z różnych dzidzin zastosowanie unigramów może być wystarczające. W innym przypadku należy zastosować bigramy lub sekwencje wyższych rzędów."
   ]
  },
  {
   "cell_type": "code",
   "execution_count": 74,
   "metadata": {},
   "outputs": [],
   "source": [
    "# poniżej przykłady zdań w różnych kontekstach\n",
    "texts = [\"aparat fotograficzny robi ładne zdjęcia\",\n",
    "         \"aparat wyprostował moje zęby\", \n",
    "         \"kupiłem aparat fotograficzny\",\n",
    "         \"mój syn nosi aparat na zęby\"]"
   ]
  },
  {
   "cell_type": "markdown",
   "metadata": {},
   "source": [
    "Stwórz obiekt do wektoryzacji, następnie macierz cech"
   ]
  },
  {
   "cell_type": "code",
   "execution_count": 75,
   "metadata": {},
   "outputs": [
    {
     "name": "stdout",
     "output_type": "stream",
     "text": [
      "[[1 1 0 0 0 0 0 1 0 0 1 0 1]\n",
      " [1 0 0 1 0 0 0 0 0 1 0 1 0]\n",
      " [1 1 1 0 0 0 0 0 0 0 0 0 0]\n",
      " [1 0 0 0 1 1 1 0 1 0 0 1 0]]\n"
     ]
    }
   ],
   "source": [
    "vectorizer = CountVectorizer()\n",
    "X = vectorizer.fit_transform(texts)\n",
    "print(X.toarray())"
   ]
  },
  {
   "cell_type": "markdown",
   "metadata": {},
   "source": [
    "Oblicz macierz podobieństwa"
   ]
  },
  {
   "cell_type": "markdown",
   "metadata": {},
   "source": [
    "#### unigramy"
   ]
  },
  {
   "cell_type": "code",
   "execution_count": 76,
   "metadata": {},
   "outputs": [
    {
     "data": {
      "text/plain": [
       "array([[1.        , 0.2236068 , 0.51639778, 0.18257419],\n",
       "       [0.2236068 , 1.        , 0.28867513, 0.40824829],\n",
       "       [0.51639778, 0.28867513, 1.        , 0.23570226],\n",
       "       [0.18257419, 0.40824829, 0.23570226, 1.        ]])"
      ]
     },
     "execution_count": 76,
     "metadata": {},
     "output_type": "execute_result"
    }
   ],
   "source": [
    "from sklearn.metrics.pairwise import cosine_similarity\n",
    "\n",
    "sim_matrix = cosine_similarity(X, X)\n",
    "sim_matrix"
   ]
  },
  {
   "cell_type": "code",
   "execution_count": 77,
   "metadata": {},
   "outputs": [
    {
     "name": "stdout",
     "output_type": "stream",
     "text": [
      "1.0    aparat fotograficzny robi ładne zdjęcia\n",
      "0.52   kupiłem aparat fotograficzny\n",
      "0.22   aparat wyprostował moje zęby\n",
      "0.18   mój syn nosi aparat na zęby\n"
     ]
    }
   ],
   "source": [
    "sim_text = zip([sim_matrix[0][n] for n in range(0, len(texts))], texts)\n",
    "\n",
    "for sim, text in sorted(sim_text, reverse=True):\n",
    "  print(f\"{sim:<5.02}  {text}\")"
   ]
  },
  {
   "cell_type": "markdown",
   "metadata": {},
   "source": [
    "#### bigramy"
   ]
  },
  {
   "cell_type": "code",
   "execution_count": 78,
   "metadata": {},
   "outputs": [
    {
     "name": "stdout",
     "output_type": "stream",
     "text": [
      "[[1 1 0 0 1 1 0 0 0 0 0 0 0 0 0 0 1 1 0 0 0 0 1 0 1 1]\n",
      " [1 0 0 1 0 0 0 0 1 1 0 0 0 0 0 0 0 0 0 0 1 1 0 1 0 0]\n",
      " [1 1 0 0 1 0 1 1 0 0 0 0 0 0 0 0 0 0 0 0 0 0 0 0 0 0]\n",
      " [1 0 1 0 0 0 0 0 0 0 1 1 1 1 1 1 0 0 1 1 0 0 0 1 0 0]]\n"
     ]
    }
   ],
   "source": [
    "vectorizer_bigrams = CountVectorizer(ngram_range=(1,2))\n",
    "X_bigrams = vectorizer_bigrams.fit_transform(texts)\n",
    "print(X_bigrams.toarray())"
   ]
  },
  {
   "cell_type": "code",
   "execution_count": 79,
   "metadata": {},
   "outputs": [
    {
     "data": {
      "text/plain": [
       "['aparat',\n",
       " 'aparat fotograficzny',\n",
       " 'aparat na',\n",
       " 'aparat wyprostował',\n",
       " 'fotograficzny',\n",
       " 'fotograficzny robi',\n",
       " 'kupiłem',\n",
       " 'kupiłem aparat',\n",
       " 'moje',\n",
       " 'moje zęby',\n",
       " 'mój',\n",
       " 'mój syn',\n",
       " 'na',\n",
       " 'na zęby',\n",
       " 'nosi',\n",
       " 'nosi aparat',\n",
       " 'robi',\n",
       " 'robi ładne',\n",
       " 'syn',\n",
       " 'syn nosi',\n",
       " 'wyprostował',\n",
       " 'wyprostował moje',\n",
       " 'zdjęcia',\n",
       " 'zęby',\n",
       " 'ładne',\n",
       " 'ładne zdjęcia']"
      ]
     },
     "execution_count": 79,
     "metadata": {},
     "output_type": "execute_result"
    }
   ],
   "source": [
    "vectorizer_bigrams.get_feature_names()"
   ]
  },
  {
   "cell_type": "code",
   "execution_count": 80,
   "metadata": {},
   "outputs": [
    {
     "data": {
      "text/plain": [
       "array([[1.        , 0.12598816, 0.4472136 , 0.10050378],\n",
       "       [0.12598816, 1.        , 0.16903085, 0.22792115],\n",
       "       [0.4472136 , 0.16903085, 1.        , 0.13483997],\n",
       "       [0.10050378, 0.22792115, 0.13483997, 1.        ]])"
      ]
     },
     "execution_count": 80,
     "metadata": {},
     "output_type": "execute_result"
    }
   ],
   "source": [
    "sim_matrix_bigrams = cosine_similarity(X_bigrams, X_bigrams)\n",
    "sim_matrix_bigrams"
   ]
  },
  {
   "cell_type": "code",
   "execution_count": 81,
   "metadata": {},
   "outputs": [
    {
     "name": "stdout",
     "output_type": "stream",
     "text": [
      "1.0      aparat fotograficzny robi ładne zdjęcia\n",
      "0.4472   kupiłem aparat fotograficzny\n",
      "0.126    aparat wyprostował moje zęby\n",
      "0.1005   mój syn nosi aparat na zęby\n"
     ]
    }
   ],
   "source": [
    "sim_text_bigrams = zip([sim_matrix_bigrams[0][n] for n in range(0, len(texts))], texts)\n",
    "\n",
    "for sim, text in sorted(sim_text_bigrams, reverse=True):\n",
    "  print(f\"{sim:<7.04}  {text}\")"
   ]
  },
  {
   "cell_type": "markdown",
   "metadata": {},
   "source": [
    "trigramy"
   ]
  },
  {
   "cell_type": "code",
   "execution_count": 82,
   "metadata": {},
   "outputs": [
    {
     "name": "stdout",
     "output_type": "stream",
     "text": [
      "[[1 1 1 0 0 0 0 1 1 1 0 0 0 0 0 0 0 0 0 0 0 0 0 1 1 1 0 0 0 0 0 0 1 0 1 1]\n",
      " [1 0 0 0 0 1 1 0 0 0 0 0 0 1 1 0 0 0 0 0 0 0 0 0 0 0 0 0 0 1 1 1 0 1 0 0]\n",
      " [1 1 0 0 0 0 0 1 0 0 1 1 1 0 0 0 0 0 0 0 0 0 0 0 0 0 0 0 0 0 0 0 0 0 0 0]\n",
      " [1 0 0 1 1 0 0 0 0 0 0 0 0 0 0 1 1 1 1 1 1 1 1 0 0 0 1 1 1 0 0 0 0 1 0 0]]\n"
     ]
    }
   ],
   "source": [
    "vectorizer_trigrams = CountVectorizer(ngram_range=(1,3))\n",
    "X_trigrams = vectorizer_trigrams.fit_transform(texts)\n",
    "print(X_trigrams.toarray())"
   ]
  },
  {
   "cell_type": "code",
   "execution_count": 83,
   "metadata": {},
   "outputs": [
    {
     "name": "stdout",
     "output_type": "stream",
     "text": [
      "['aparat', 'aparat fotograficzny', 'aparat fotograficzny robi', 'aparat na', 'aparat na zęby', 'aparat wyprostował', 'aparat wyprostował moje', 'fotograficzny', 'fotograficzny robi', 'fotograficzny robi ładne', 'kupiłem', 'kupiłem aparat', 'kupiłem aparat fotograficzny', 'moje', 'moje zęby', 'mój', 'mój syn', 'mój syn nosi', 'na', 'na zęby', 'nosi', 'nosi aparat', 'nosi aparat na', 'robi', 'robi ładne', 'robi ładne zdjęcia', 'syn', 'syn nosi', 'syn nosi aparat', 'wyprostował', 'wyprostował moje', 'wyprostował moje zęby', 'zdjęcia', 'zęby', 'ładne', 'ładne zdjęcia']\n"
     ]
    }
   ],
   "source": [
    "print(vectorizer_trigrams.get_feature_names())"
   ]
  },
  {
   "cell_type": "code",
   "execution_count": 84,
   "metadata": {},
   "outputs": [
    {
     "data": {
      "text/plain": [
       "array([[1.        , 0.09622504, 0.35355339, 0.0745356 ],\n",
       "       [0.09622504, 1.        , 0.13608276, 0.17213259],\n",
       "       [0.35355339, 0.13608276, 1.        , 0.10540926],\n",
       "       [0.0745356 , 0.17213259, 0.10540926, 1.        ]])"
      ]
     },
     "execution_count": 84,
     "metadata": {},
     "output_type": "execute_result"
    }
   ],
   "source": [
    "sim_matrix_trigrams = cosine_similarity(X_trigrams, X_trigrams)\n",
    "sim_matrix_trigrams"
   ]
  },
  {
   "cell_type": "code",
   "execution_count": 85,
   "metadata": {},
   "outputs": [
    {
     "name": "stdout",
     "output_type": "stream",
     "text": [
      "1.0      aparat fotograficzny robi ładne zdjęcia\n",
      "0.3536   kupiłem aparat fotograficzny\n",
      "0.09623  aparat wyprostował moje zęby\n",
      "0.07454  mój syn nosi aparat na zęby\n"
     ]
    }
   ],
   "source": [
    "sim_text_trigrams = zip([sim_matrix_trigrams[0][n] for n in range(0, len(texts))], texts)\n",
    "\n",
    "for sim, text in sorted(sim_text_trigrams, reverse=True):\n",
    "  print(f\"{sim:<7.04}  {text}\")"
   ]
  },
  {
   "cell_type": "code",
   "execution_count": null,
   "metadata": {},
   "outputs": [],
   "source": []
  }
 ],
 "metadata": {
  "kernelspec": {
   "display_name": "Python 3",
   "language": "python",
   "name": "python3"
  },
  "language_info": {
   "codemirror_mode": {
    "name": "ipython",
    "version": 3
   },
   "file_extension": ".py",
   "mimetype": "text/x-python",
   "name": "python",
   "nbconvert_exporter": "python",
   "pygments_lexer": "ipython3",
   "version": "3.6.9"
  }
 },
 "nbformat": 4,
 "nbformat_minor": 4
}

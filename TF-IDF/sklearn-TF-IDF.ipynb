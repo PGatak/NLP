{
 "cells": [
  {
   "cell_type": "markdown",
   "metadata": {},
   "source": [
    "Tf-idf — metoda liczenia wagi terminów w oparciu o ich częstość w dokumencie (tf, term frequency) oraz ich rozkład w całym korpusie (idf, inverse document frequency). Wagi Tf-idf faworyzują słowa występujące w niewielu dokumentach, ponieważ mają większą siłę dyskryminacyjną."
   ]
  },
  {
   "cell_type": "code",
   "execution_count": 2,
   "metadata": {},
   "outputs": [
    {
     "name": "stdout",
     "output_type": "stream",
     "text": [
      "Wartość idf w zależności od liczby dokumentów, w których dany termin występuje, dla kolekcji 100 dokumentów.\n"
     ]
    },
    {
     "data": {
      "image/png": "[encoded data removed]",
      "text/plain": [
       "<Figure size 1080x360 with 1 Axes>"
      ]
     },
     "metadata": {
      "needs_background": "light"
     },
     "output_type": "display_data"
    }
   ],
   "source": [
    "import pylab\n",
    "import numpy as np\n",
    "\n",
    "params = {'legend.fontsize': 'x-large',\n",
    "          'figure.figsize': (15, 5),\n",
    "         'axes.labelsize': 'x-large',\n",
    "         'axes.titlesize':'x-large',\n",
    "         'xtick.labelsize':'x-large',\n",
    "         'ytick.labelsize':'x-large'}\n",
    "pylab.rcParams.update(params)\n",
    "\n",
    "x = np.linspace(1, 1000, 100000)\n",
    "y = np.log(1000/x)\n",
    "\n",
    "pylab.plot(x, y)\n",
    "print(\"Wartość idf w zależności od liczby dokumentów, w których dany termin występuje, dla kolekcji 1000 dokumentów.\")"
   ]
  },
  {
   "cell_type": "markdown",
   "metadata": {},
   "source": [
    "### Wektoryzacja"
   ]
  },
  {
   "cell_type": "code",
   "execution_count": 4,
   "metadata": {},
   "outputs": [],
   "source": [
    "from sklearn.feature_extraction.text import TfidfVectorizer"
   ]
  },
  {
   "cell_type": "code",
   "execution_count": 11,
   "metadata": {},
   "outputs": [],
   "source": [
    "texts = [\n",
    "    \"kot pije mleko\",\n",
    "    \"kot rozlał mleko i poszedł do dzieci\",\n",
    "    \"pies i kot bawią się razem\",\n",
    "    \"dzieci i pies bawią się razem\",\n",
    "    \"tato rozlał mleko i poszedł do sklepu\"\n",
    "]"
   ]
  },
  {
   "cell_type": "code",
   "execution_count": 12,
   "metadata": {},
   "outputs": [
    {
     "name": "stdout",
     "output_type": "stream",
     "text": [
      "['0    ', '0    ', '0    ', '0.486', '0.486', '0    ', '0.726', '0    ', '0    ', '0    ', '0    ', '0    ', '0    ']\n",
      "['0    ', '0.431', '0.431', '0.358', '0.358', '0    ', '0    ', '0.431', '0    ', '0.431', '0    ', '0    ', '0    ']\n",
      "['0.462', '0    ', '0    ', '0.383', '0    ', '0.462', '0    ', '0    ', '0.462', '0    ', '0.462', '0    ', '0    ']\n",
      "['0.447', '0    ', '0.447', '0    ', '0    ', '0.447', '0    ', '0    ', '0.447', '0    ', '0.447', '0    ', '0    ']\n",
      "['0    ', '0.385', '0    ', '0    ', '0.319', '0    ', '0    ', '0.385', '0    ', '0.385', '0    ', '0.477', '0.477']\n"
     ]
    }
   ],
   "source": [
    "vectorizer = TfidfVectorizer()\n",
    "X = vectorizer.fit_transform(texts)\n",
    "for row in X.toarray():\n",
    "  print([\"%.3f\" % col if col > 0 else '0    ' for col in row])"
   ]
  },
  {
   "cell_type": "code",
   "execution_count": 14,
   "metadata": {},
   "outputs": [
    {
     "name": "stdout",
     "output_type": "stream",
     "text": [
      "2.099  tato\n",
      "2.099  sklepu\n",
      "2.099  pije\n",
      "1.693  się\n",
      "1.693  rozlał\n",
      "1.693  razem\n",
      "1.693  poszedł\n",
      "1.693  pies\n",
      "1.693  dzieci\n",
      "1.693  do\n",
      "1.693  bawią\n",
      "1.405  mleko\n",
      "1.405  kot\n"
     ]
    }
   ],
   "source": [
    "for idf, word in sorted(zip(vectorizer.idf_, vectorizer.get_feature_names()), reverse=True):\n",
    "  print(\"%0.3f  %s\" % (idf, word))"
   ]
  },
  {
   "cell_type": "markdown",
   "metadata": {},
   "source": [
    "### Podobieństwo"
   ]
  },
  {
   "cell_type": "code",
   "execution_count": 16,
   "metadata": {},
   "outputs": [],
   "source": [
    "from sklearn.metrics.pairwise import cosine_similarity"
   ]
  },
  {
   "cell_type": "code",
   "execution_count": 17,
   "metadata": {},
   "outputs": [
    {
     "data": {
      "text/plain": [
       "array([[1.        , 0.34809034, 0.18639488, 0.        , 0.15522094],\n",
       "       [0.34809034, 1.        , 0.13721255, 0.19284153, 0.61175002],\n",
       "       [0.18639488, 0.13721255, 1.        , 0.82609988, 0.        ],\n",
       "       [0.        , 0.19284153, 0.82609988, 1.        , 0.        ],\n",
       "       [0.15522094, 0.61175002, 0.        , 0.        , 1.        ]])"
      ]
     },
     "execution_count": 17,
     "metadata": {},
     "output_type": "execute_result"
    }
   ],
   "source": [
    "sim_matrix = cosine_similarity(X, X)\n",
    "sim_matrix"
   ]
  },
  {
   "cell_type": "code",
   "execution_count": 18,
   "metadata": {},
   "outputs": [
    {
     "name": "stdout",
     "output_type": "stream",
     "text": [
      "1.0      kot pije mleko\n",
      "0.3481   kot rozlał mleko i poszedł do dzieci\n",
      "0.1864   pies i kot bawią się razem\n",
      "0.1552   tato rozlał mleko i poszedł do sklepu\n",
      "0.0      dzieci i pies bawią się razem\n"
     ]
    }
   ],
   "source": [
    "sim_text = zip([sim_matrix[0][n] for n in range(0, len(texts))], texts)\n",
    "\n",
    "for sim, text in sorted(sim_text, reverse=True):\n",
    "  print(f\"{sim:<7.04}  {text[:50]}\")"
   ]
  },
  {
   "cell_type": "markdown",
   "metadata": {},
   "source": [
    "### Porównanie z CountVectorizer"
   ]
  },
  {
   "cell_type": "code",
   "execution_count": 19,
   "metadata": {},
   "outputs": [
    {
     "data": {
      "text/plain": [
       "array([[1.        , 0.47140452, 0.25819889, 0.        , 0.23570226],\n",
       "       [0.47140452, 1.        , 0.18257419, 0.18257419, 0.66666667],\n",
       "       [0.25819889, 0.18257419, 1.        , 0.8       , 0.        ],\n",
       "       [0.        , 0.18257419, 0.8       , 1.        , 0.        ],\n",
       "       [0.23570226, 0.66666667, 0.        , 0.        , 1.        ]])"
      ]
     },
     "execution_count": 19,
     "metadata": {},
     "output_type": "execute_result"
    }
   ],
   "source": [
    "from sklearn.feature_extraction.text import CountVectorizer\n",
    "\n",
    "count_vectorizer = CountVectorizer()\n",
    "\n",
    "count_X = count_vectorizer.fit_transform(texts)\n",
    "\n",
    "count_sim_matrix = cosine_similarity(count_X, count_X)\n",
    "count_sim_matrix"
   ]
  },
  {
   "cell_type": "code",
   "execution_count": 20,
   "metadata": {},
   "outputs": [
    {
     "name": "stdout",
     "output_type": "stream",
     "text": [
      "1.0      kot pije mleko\n",
      "0.4714   kot rozlał mleko i poszedł do dzieci\n",
      "0.2582   pies i kot bawią się razem\n",
      "0.2357   tato rozlał mleko i poszedł do sklepu\n",
      "0.0      dzieci i pies bawią się razem\n"
     ]
    }
   ],
   "source": [
    "sim_text = zip([count_sim_matrix[0][n] for n in range(0, len(texts))], texts)\n",
    "for sim, text in sorted(sim_text, reverse=True):\n",
    "  print(f\"{sim:<7.04}  {text[:50]}\")"
   ]
  },
  {
   "cell_type": "code",
   "execution_count": null,
   "metadata": {},
   "outputs": [],
   "source": []
  }
 ],
 "metadata": {
  "kernelspec": {
   "display_name": "Python 3",
   "language": "python",
   "name": "python3"
  },
  "language_info": {
   "codemirror_mode": {
    "name": "ipython",
    "version": 3
   },
   "file_extension": ".py",
   "mimetype": "text/x-python",
   "name": "python",
   "nbconvert_exporter": "python",
   "pygments_lexer": "ipython3",
   "version": "3.6.9"
  }
 },
 "nbformat": 4,
 "nbformat_minor": 4
}

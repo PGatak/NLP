{
 "cells": [
  {
   "cell_type": "code",
   "execution_count": 1,
   "metadata": {},
   "outputs": [],
   "source": [
    "import spacy"
   ]
  },
  {
   "cell_type": "code",
   "execution_count": 2,
   "metadata": {},
   "outputs": [],
   "source": [
    "nlp = spacy.load(\"pl_core_news_sm\")"
   ]
  },
  {
   "cell_type": "code",
   "execution_count": 18,
   "metadata": {},
   "outputs": [],
   "source": [
    "doc = nlp(\"Czarny kot zjadł rybę spod stołu i poszedł spać!\")"
   ]
  },
  {
   "cell_type": "markdown",
   "metadata": {},
   "source": [
    "### części mowy"
   ]
  },
  {
   "cell_type": "code",
   "execution_count": 19,
   "metadata": {},
   "outputs": [
    {
     "name": "stdout",
     "output_type": "stream",
     "text": [
      "Czarny         ADJ         \n",
      "kot            NOUN        \n",
      "zjadł          VERB        \n",
      "rybę           NOUN        \n",
      "spod           ADP         \n",
      "stołu          NOUN        \n",
      "i              CCONJ       \n",
      "poszedł        VERB        \n",
      "spać           VERB        \n",
      "!              PUNCT       \n"
     ]
    }
   ],
   "source": [
    "for token in doc:\n",
    "    print('{:<15}{:<12}'.format(token.text, token.pos_))"
   ]
  },
  {
   "cell_type": "markdown",
   "metadata": {},
   "source": [
    "* ADJ: adjective - przymiotnik\n",
    "* ADP: adposition - przyimek\n",
    "* ADV: adverb - przysłówek\n",
    "* AUX: auxiliary verb - czasownik posiłkowy\n",
    "* CONJ: coordinating conjunction - spójnik\n",
    "* DET: determiner - określnik (the, a, an, this, my, much, some, one, all, every, what, quite, etc.)\n",
    "* INTJ: interjection - wykrzyknik\n",
    "* NOUN: noun - rzeczownik\n",
    "* NUM: numeral - liczebnik\n",
    "* PART: particle - partykuła (by, byś, byle, choć, jedynie, niech, oby, owszem, może, czy, ani, etc.)\n",
    "* PRON: pronoun - zaimek (on, ktoś, ten, twój, tutaj, kiedy, tyle)\n",
    "* PROPN: proper noun - nazwa własna\n",
    "* PUNCT: punctuation - interpunkcja\n",
    "* SCONJ: subordinating conjunction - spójnik porządkowy\n",
    "* SYM: symbol - symbol\n",
    "* VERB: verb - czasownik\n",
    "* X: other - inne"
   ]
  },
  {
   "cell_type": "markdown",
   "metadata": {},
   "source": [
    "### identyfikacja jednostek nazewniczych"
   ]
  },
  {
   "cell_type": "code",
   "execution_count": 30,
   "metadata": {},
   "outputs": [],
   "source": [
    "doc = nlp(\"Microsoft inwestuje w Polsce.\")"
   ]
  },
  {
   "cell_type": "code",
   "execution_count": 31,
   "metadata": {},
   "outputs": [
    {
     "name": "stdout",
     "output_type": "stream",
     "text": [
      "Microsoft orgName\n",
      "Polsce placeName\n"
     ]
    }
   ],
   "source": [
    "for ent in doc.ents:\n",
    "    print(ent.text, ent.label_)\n",
    "\n"
   ]
  },
  {
   "cell_type": "markdown",
   "metadata": {},
   "source": [
    "### wizualizacja "
   ]
  },
  {
   "cell_type": "code",
   "execution_count": 32,
   "metadata": {},
   "outputs": [
    {
     "data": {
      "text/html": [
       "<span class=\"tex2jax_ignore\"><div class=\"entities\" style=\"line-height: 2.5; direction: ltr\">\n",
       "<mark class=\"entity\" style=\"background: #ddd; padding: 0.45em 0.6em; margin: 0 0.25em; line-height: 1; border-radius: 0.35em;\">\n",
       "    Microsoft\n",
       "    <span style=\"font-size: 0.8em; font-weight: bold; line-height: 1; border-radius: 0.35em; text-transform: uppercase; vertical-align: middle; margin-left: 0.5rem\">orgName</span>\n",
       "</mark>\n",
       " inwestuje w \n",
       "<mark class=\"entity\" style=\"background: #ddd; padding: 0.45em 0.6em; margin: 0 0.25em; line-height: 1; border-radius: 0.35em;\">\n",
       "    Polsce\n",
       "    <span style=\"font-size: 0.8em; font-weight: bold; line-height: 1; border-radius: 0.35em; text-transform: uppercase; vertical-align: middle; margin-left: 0.5rem\">placeName</span>\n",
       "</mark>\n",
       ".</div></span>"
      ],
      "text/plain": [
       "<IPython.core.display.HTML object>"
      ]
     },
     "metadata": {},
     "output_type": "display_data"
    }
   ],
   "source": [
    "from spacy import displacy\n",
    "displacy.render(doc, style=\"ent\", jupyter=True)"
   ]
  },
  {
   "cell_type": "markdown",
   "metadata": {},
   "source": [
    "### sprawdź co oznacza wybrany skrót (en)"
   ]
  },
  {
   "cell_type": "code",
   "execution_count": 37,
   "metadata": {},
   "outputs": [
    {
     "data": {
      "text/plain": [
       "'Companies, agencies, institutions, etc.'"
      ]
     },
     "execution_count": 37,
     "metadata": {},
     "output_type": "execute_result"
    }
   ],
   "source": [
    "spacy.explain(\"ORG\")"
   ]
  },
  {
   "cell_type": "markdown",
   "metadata": {},
   "source": [
    "### head - jak słowa są powiązane\n",
    "### dep - relacja syntaktyczna"
   ]
  },
  {
   "cell_type": "code",
   "execution_count": 38,
   "metadata": {},
   "outputs": [
    {
     "name": "stdout",
     "output_type": "stream",
     "text": [
      "Microsoft      , NOUN           , nsubj          , inwestuje      \n",
      "inwestuje      , VERB           , ROOT           , inwestuje      \n",
      "w              , ADP            , case           , Polsce         \n",
      "Polsce         , NOUN           , obl            , inwestuje      \n",
      ".              , PUNCT          , punct          , inwestuje      \n"
     ]
    }
   ],
   "source": [
    "for token in doc:\n",
    "    print(f'{token.text:<15}, {token.pos_:<15}, {token.dep_:<15}, {token.head.text:<15}')"
   ]
  }
 ],
 "metadata": {
  "kernelspec": {
   "display_name": "Python 3",
   "language": "python",
   "name": "python3"
  },
  "language_info": {
   "codemirror_mode": {
    "name": "ipython",
    "version": 3
   },
   "file_extension": ".py",
   "mimetype": "text/x-python",
   "name": "python",
   "nbconvert_exporter": "python",
   "pygments_lexer": "ipython3",
   "version": "3.6.9"
  }
 },
 "nbformat": 4,
 "nbformat_minor": 4
}

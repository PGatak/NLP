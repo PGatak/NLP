{
 "cells": [
  {
   "cell_type": "markdown",
   "metadata": {},
   "source": [
    "### Bag-of-words (BoW) - technika uproszczonej reprezentacji tekstu. Polega na przekształeceniu sekwencji segmentów do policzonego zbioru segmentów. Kolejność segmentów nie ma znaczenia. Głównym zastosowaniem jest odwzorowanie podobieństwa znaczeniowego/miar podobieństwa dokumentów."
   ]
  },
  {
   "cell_type": "code",
   "execution_count": 3,
   "metadata": {},
   "outputs": [],
   "source": [
    "import spacy\n",
    "nlp = spacy.load('pl_core_news_sm')"
   ]
  },
  {
   "cell_type": "code",
   "execution_count": 4,
   "metadata": {},
   "outputs": [],
   "source": [
    "texts = [\n",
    "    \"Agnieszka ma nowy samochód\",\n",
    "    \"Agnieszka z Warszawy ma piękny nowy samochód\",\n",
    "    \"Arek ma nowy rower\",\n",
    "    \"Samochód Agnieszki jest nowy\"\n",
    "]"
   ]
  },
  {
   "cell_type": "markdown",
   "metadata": {},
   "source": [
    "Podział tekstu na tokeny"
   ]
  },
  {
   "cell_type": "code",
   "execution_count": 12,
   "metadata": {},
   "outputs": [
    {
     "data": {
      "text/plain": [
       "[Agnieszka ma nowy samochód,\n",
       " Agnieszka z Warszawy ma piękny nowy samochód,\n",
       " Arek ma nowy rower,\n",
       " Samochód Agnieszki jest nowy]"
      ]
     },
     "execution_count": 12,
     "metadata": {},
     "output_type": "execute_result"
    }
   ],
   "source": [
    "docs_lemma = [nlp(text) for text in texts]\n",
    "docs_lemma"
   ]
  },
  {
   "cell_type": "markdown",
   "metadata": {},
   "source": [
    "Przekształcenie listy do słownika wraz z liczbą wystąpień poszczególnych elementów (użyjemy obiekt z biblioteki nltk). "
   ]
  },
  {
   "cell_type": "code",
   "execution_count": 13,
   "metadata": {},
   "outputs": [],
   "source": [
    "from nltk.probability import FreqDist"
   ]
  },
  {
   "cell_type": "code",
   "execution_count": 14,
   "metadata": {},
   "outputs": [
    {
     "data": {
      "text/plain": [
       "[FreqDist({'agnieszka': 1, 'mieć': 1, 'nowy': 1, 'samochód': 1}),\n",
       " FreqDist({'agnieszka': 1, 'z': 1, 'warszawa': 1, 'mieć': 1, 'piękny': 1, 'nowy': 1, 'samochód': 1}),\n",
       " FreqDist({'arka': 1, 'mieć': 1, 'nowy': 1, 'rower': 1}),\n",
       " FreqDist({'samochód': 1, 'agnieszka': 1, 'być': 1, 'nowy': 1})]"
      ]
     },
     "execution_count": 14,
     "metadata": {},
     "output_type": "execute_result"
    }
   ],
   "source": [
    "# dla każdego elementu stwórz lemat rzutowany do małych liter i stwórz obiekt FreqDist\n",
    "bows_lemma = [FreqDist([t.lemma_.lower() for t in doc]) for doc in docs_lemma]\n",
    "bows_lemma"
   ]
  },
  {
   "cell_type": "code",
   "execution_count": 15,
   "metadata": {},
   "outputs": [],
   "source": [
    "# funkcja przyjmuje 2 argumenty - reprezentacje dwóch dokumentów\n",
    "def bow_similarity(bow1: FreqDist, bow2: FreqDist) -> float:\n",
    "    # suma zbiorów \n",
    "    bow_all = bow1 + bow2\n",
    "    # przecięcie zbiorów. Iteracja po elementach sumy zbiorów  i sprawdzanie czy występuje w każdym z dokumentów\n",
    "    bow_common = [word for word in bow_all.keys() if word in bow1 and word in bow2]\n",
    "    # jeżeli liczność sumy zbiorów jest zerowa to zwracamy zero\n",
    "    # jeżeli liczność sumy zbiorów nie jest zerowa to postępujemy zgodnie ze wzorem J(A,B)  \n",
    "    return 0 if len(bow_all) == 0 else len(bow_common) / len(bow_all)"
   ]
  },
  {
   "cell_type": "code",
   "execution_count": 16,
   "metadata": {},
   "outputs": [
    {
     "name": "stdout",
     "output_type": "stream",
     "text": [
      "Agnieszka ma nowy samochód \n",
      "\n",
      "0.5714  Agnieszka z Warszawy ma piękny nowy samochód\n",
      "0.3333  Arek ma nowy rower\n",
      "0.6     Samochód Agnieszki jest nowy\n"
     ]
    }
   ],
   "source": [
    "print(texts[0], \"\\n\")\n",
    "\n",
    "for n in range(1, 4):\n",
    "  sim = bow_similarity(bows_lemma[0], bows_lemma[n])\n",
    "  print(f\"{sim:<6.4}  {texts[n]}\")"
   ]
  },
  {
   "cell_type": "markdown",
   "metadata": {},
   "source": [
    "W powyższym przykładzie prównujemy miarę podobieństwa pod względem semantycznym pomiędzy zdaniem \"Agnieszka ma nowy samochód\", a pozostałymi."
   ]
  },
  {
   "cell_type": "markdown",
   "metadata": {},
   "source": [
    "#### Sprawdź również BoW z użyciem biblioteki nltk i wektoryzację z użyciem biblioteki sklearn"
   ]
  },
  {
   "cell_type": "code",
   "execution_count": null,
   "metadata": {},
   "outputs": [],
   "source": []
  }
 ],
 "metadata": {
  "kernelspec": {
   "display_name": "Python 3",
   "language": "python",
   "name": "python3"
  },
  "language_info": {
   "codemirror_mode": {
    "name": "ipython",
    "version": 3
   },
   "file_extension": ".py",
   "mimetype": "text/x-python",
   "name": "python",
   "nbconvert_exporter": "python",
   "pygments_lexer": "ipython3",
   "version": "3.6.9"
  }
 },
 "nbformat": 4,
 "nbformat_minor": 4
}

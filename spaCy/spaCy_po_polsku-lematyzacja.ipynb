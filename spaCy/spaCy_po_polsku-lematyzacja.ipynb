{
 "cells": [
  {
   "cell_type": "code",
   "execution_count": 1,
   "metadata": {},
   "outputs": [],
   "source": [
    "import spacy\n",
    "nlp = spacy.load(\"pl_core_news_sm\")"
   ]
  },
  {
   "cell_type": "markdown",
   "metadata": {},
   "source": [
    "### lematyzacja polega na sprowadzeniu słowa do formy bazowej"
   ]
  },
  {
   "cell_type": "code",
   "execution_count": 8,
   "metadata": {},
   "outputs": [
    {
     "name": "stdout",
     "output_type": "stream",
     "text": [
      "jem      => jeść    \n",
      "jemy     => jeść    \n",
      "jedzcie  => jedzcie \n",
      "jecie    => jecie   \n"
     ]
    }
   ],
   "source": [
    "doc = nlp(\"jem jemy jedzcie jecie\")\n",
    "\n",
    "for t in doc:\n",
    "  print(f\"{t.text:<8} => {t.lemma_:<8}\")"
   ]
  },
  {
   "cell_type": "markdown",
   "metadata": {},
   "source": [
    "tagger do ustalenia znaczenia słowa wykorzystuje jego kontekst. Powyżej słowo \"jedzcie\" nie zostało umieszczone w kontekście i nie zostało odmienie. Poniżej słowo \"jedzcie\" zostało poprawnie zinterpretowane i odmienione."
   ]
  },
  {
   "cell_type": "code",
   "execution_count": 9,
   "metadata": {},
   "outputs": [
    {
     "name": "stdout",
     "output_type": "stream",
     "text": [
      "Jedzcie    => jeść      \n",
      "kolację    => kolacja   \n"
     ]
    }
   ],
   "source": [
    "doc = nlp(\"Jedzcie kolację\")\n",
    "\n",
    "for t in doc:\n",
    "  print(f\"{t.text:<10} => {t.lemma_:<10}\")"
   ]
  },
  {
   "cell_type": "markdown",
   "metadata": {},
   "source": [
    "Poniżej 2 formy słowa \"damy\" o odmiennej interpretacji."
   ]
  },
  {
   "cell_type": "code",
   "execution_count": 22,
   "metadata": {},
   "outputs": [
    {
     "name": "stdout",
     "output_type": "stream",
     "text": [
      "Damy     => dać     \n",
      "prezent  => prezenta\n",
      "dla      => dla     \n",
      "młodej   => młody   \n",
      "damy     => dama    \n",
      ".        => .       \n"
     ]
    }
   ],
   "source": [
    "doc = nlp(\"Damy prezent dla młodej damy.\")\n",
    "\n",
    "for t in doc:\n",
    "  print(f\"{t.text:<8} => {t.lemma_:<8}\")"
   ]
  },
  {
   "cell_type": "markdown",
   "metadata": {},
   "source": [
    "Poniżej przykład, gdy wyłaczymy moduły \"tagger\", \"parser\", \"ner\". Dla każdego słowa skopiuje formę tekstową i zamieni ją na małe litery"
   ]
  },
  {
   "cell_type": "code",
   "execution_count": 23,
   "metadata": {},
   "outputs": [
    {
     "name": "stdout",
     "output_type": "stream",
     "text": [
      "Damy       => damy      \n",
      "prezent    => prezent   \n",
      "dla        => dla       \n",
      "młodej     => młodej    \n",
      "damy       => damy      \n",
      ".          => .         \n"
     ]
    }
   ],
   "source": [
    "doc = nlp(\"Damy prezent dla młodej damy.\", disable=[\"tagger\", \"parser\", \"ner\"])\n",
    "\n",
    "for t in doc:\n",
    "  print(f\"{t.text:<10} => {t.lemma_:<10}\")"
   ]
  },
  {
   "cell_type": "markdown",
   "metadata": {},
   "source": [
    "Poniżej przykład, gdy wyłaczymy moduły \"parser\", \"ner\". Moduł tagger konieczny jest do przeprowadzenia analizy morfosyntaktycznej. Model przypisze lemat."
   ]
  },
  {
   "cell_type": "code",
   "execution_count": 20,
   "metadata": {},
   "outputs": [
    {
     "name": "stdout",
     "output_type": "stream",
     "text": [
      "Damy       => dać       \n",
      "prezent    => prezenta  \n",
      "dla        => dla       \n",
      "młodej     => młody     \n",
      "damy       => dama      \n",
      ".          => .         \n"
     ]
    }
   ],
   "source": [
    "doc = nlp(\"Damy prezent dla młodej damy.\", disable=[\"parser\", \"ner\"])\n",
    "\n",
    "for t in doc:\n",
    "  print(f\"{t.text:<10} => {t.lemma_:<10}\")"
   ]
  },
  {
   "cell_type": "markdown",
   "metadata": {},
   "source": [
    "Moduł tagger określa klasę gramatyczną dla słowa.\n",
    "Przykłady:\n",
    "* ADJ: adjective - przymiotnik\n",
    "* ADP: adposition - przyimek\n",
    "* ADV: adverb - przysłówek\n",
    "* CONJ: coordinating conjunction - spójnik\n",
    "* INTJ: interjection - wykrzyknik\n",
    "* NOUN: noun - rzeczownik\n",
    "* NUM: numeral - liczebnik\n",
    "* PART: particle - partykuła\n",
    "* PRON: pronoun - zaimek\n",
    "* PROPN: proper noun - nazwa własna\n",
    "* PUNCT: punctuation - znak interpunkcyjny\n",
    "* VERB: verb - czasownik\n",
    "* X: other - inne"
   ]
  },
  {
   "cell_type": "code",
   "execution_count": 24,
   "metadata": {},
   "outputs": [
    {
     "name": "stdout",
     "output_type": "stream",
     "text": [
      "Damy     => VERB     => dać     \n",
      "prezent  => NOUN     => prezenta\n",
      "dla      => ADP      => dla     \n",
      "młodej   => ADJ      => młody   \n",
      "damy     => NOUN     => dama    \n",
      ".        => PUNCT    => .       \n"
     ]
    }
   ],
   "source": [
    "doc = nlp(\"Damy prezent dla młodej damy.\", disable=[\"parser\", \"ner\"])\n",
    "\n",
    "for t in doc:\n",
    "  print(f\"{t.text:<8} => {t.pos_:<8} => {t.lemma_:<8}\")"
   ]
  },
  {
   "cell_type": "code",
   "execution_count": null,
   "metadata": {},
   "outputs": [],
   "source": []
  }
 ],
 "metadata": {
  "kernelspec": {
   "display_name": "Python 3",
   "language": "python",
   "name": "python3"
  },
  "language_info": {
   "codemirror_mode": {
    "name": "ipython",
    "version": 3
   },
   "file_extension": ".py",
   "mimetype": "text/x-python",
   "name": "python",
   "nbconvert_exporter": "python",
   "pygments_lexer": "ipython3",
   "version": "3.6.9"
  }
 },
 "nbformat": 4,
 "nbformat_minor": 4
}

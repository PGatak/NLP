{
 "cells": [
  {
   "cell_type": "code",
   "execution_count": 29,
   "metadata": {},
   "outputs": [],
   "source": [
    "import spacy"
   ]
  },
  {
   "cell_type": "code",
   "execution_count": 30,
   "metadata": {},
   "outputs": [],
   "source": [
    "text = \"To jest pierwsze zdanie. To jest drugie zdanie. Stał przy ul. Karkowskiej. Kurs opracował inż. Kwiatkowski\""
   ]
  },
  {
   "cell_type": "markdown",
   "metadata": {},
   "source": [
    "Za podział dokumentu na zdania odpowiedzialny jest moduł \"parser\""
   ]
  },
  {
   "cell_type": "markdown",
   "metadata": {},
   "source": [
    "### Domyślny moduł do podziału na zdania."
   ]
  },
  {
   "cell_type": "markdown",
   "metadata": {},
   "source": [
    "Dzieli tekst na zdania zgodnie ze znakami interpunkcyjnymi. Nie określa, czy kropka występuje jako skrót, czy jako koniec zdania."
   ]
  },
  {
   "cell_type": "code",
   "execution_count": 32,
   "metadata": {
    "scrolled": true
   },
   "outputs": [
    {
     "name": "stdout",
     "output_type": "stream",
     "text": [
      "['sentencizer']\n"
     ]
    }
   ],
   "source": [
    "from spacy.lang.pl import Polish\n",
    "\n",
    "nlp = Polish() # zawiera jedynie tokenizację\n",
    "sentencizer = nlp.create_pipe(\"sentencizer\")\n",
    "nlp.add_pipe(sentencizer)\n",
    "docs = nlp(text)\n",
    "\n",
    "print(nlp.pipe_names) # występujące moduły"
   ]
  },
  {
   "cell_type": "code",
   "execution_count": 47,
   "metadata": {},
   "outputs": [
    {
     "name": "stdout",
     "output_type": "stream",
     "text": [
      "<class 'spacy.tokens.span.Span'>\n",
      "0  5  To jest pierwsze zdanie.\n",
      "<class 'spacy.tokens.span.Span'>\n",
      "5  10 To jest drugie zdanie.\n",
      "<class 'spacy.tokens.span.Span'>\n",
      "10 14 Stał przy ul.\n",
      "<class 'spacy.tokens.span.Span'>\n",
      "14 16 Karkowskiej.\n",
      "<class 'spacy.tokens.span.Span'>\n",
      "16 20 Kurs opracował inż.\n",
      "<class 'spacy.tokens.span.Span'>\n",
      "20 21 Kwiatkowski\n"
     ]
    }
   ],
   "source": [
    "for sent in docs.sents:\n",
    "    print(sent.__class__)\n",
    "    print(f\"{sent.start:<2} {sent.end:<2} {sent.text}\")"
   ]
  },
  {
   "cell_type": "markdown",
   "metadata": {},
   "source": [
    "### Moduł do podziału na zdania - sm"
   ]
  },
  {
   "cell_type": "code",
   "execution_count": 35,
   "metadata": {},
   "outputs": [],
   "source": [
    "nlp_sm = spacy.load('pl_core_news_sm')"
   ]
  },
  {
   "cell_type": "code",
   "execution_count": 36,
   "metadata": {},
   "outputs": [],
   "source": [
    "docs = nlp_sm(text)"
   ]
  },
  {
   "cell_type": "code",
   "execution_count": 37,
   "metadata": {},
   "outputs": [
    {
     "name": "stdout",
     "output_type": "stream",
     "text": [
      "0  5  To jest pierwsze zdanie.\n",
      "5  10 To jest drugie zdanie.\n",
      "10 16 Stał przy ul. Karkowskiej.\n",
      "16 20 Kurs opracował inż.\n",
      "20 21 Kwiatkowski\n"
     ]
    }
   ],
   "source": [
    "for sent in docs.sents:\n",
    "  print(f\"{sent.start:<2} {sent.end:<2} {sent.text}\")"
   ]
  },
  {
   "cell_type": "markdown",
   "metadata": {},
   "source": [
    "Jak można zauważyć skrót \"ul.\" został rozpoznany i nie został potraktowany jako ostatni token w zdaniu. Natomiast skrót \"inż.\" został potraktowany jako token kończący zdanie"
   ]
  },
  {
   "cell_type": "markdown",
   "metadata": {},
   "source": [
    "### Moduł do podziału na zdania - lg"
   ]
  },
  {
   "cell_type": "markdown",
   "metadata": {},
   "source": [
    "Gdy chcemy dzielić tekst na zdania należy użyć model \"lg\""
   ]
  },
  {
   "cell_type": "code",
   "execution_count": 38,
   "metadata": {},
   "outputs": [],
   "source": [
    "nlp_lg = spacy.load(\"pl_core_news_lg\")"
   ]
  },
  {
   "cell_type": "code",
   "execution_count": 39,
   "metadata": {},
   "outputs": [],
   "source": [
    "docs = nlp_lg(text)"
   ]
  },
  {
   "cell_type": "code",
   "execution_count": 40,
   "metadata": {},
   "outputs": [
    {
     "name": "stdout",
     "output_type": "stream",
     "text": [
      "0  5  To jest pierwsze zdanie.\n",
      "5  10 To jest drugie zdanie.\n",
      "10 16 Stał przy ul. Karkowskiej.\n",
      "16 21 Kurs opracował inż. Kwiatkowski\n"
     ]
    }
   ],
   "source": [
    "for sent in docs.sents:\n",
    "  print(f\"{sent.start:<2} {sent.end:<2} {sent.text}\")"
   ]
  },
  {
   "cell_type": "code",
   "execution_count": 42,
   "metadata": {},
   "outputs": [
    {
     "name": "stdout",
     "output_type": "stream",
     "text": [
      "0) To         True None\n",
      "1) jest       None None\n",
      "2) pierwsze   None None\n",
      "3) zdanie     None None\n",
      "4) .          None True\n",
      "5) To         True None\n",
      "6) jest       None None\n",
      "7) drugie     None None\n",
      "8) zdanie     None None\n",
      "9) .          None True\n",
      "10) Stał       True None\n",
      "11) przy       None None\n",
      "12) ul         None None\n",
      "13) .          None None\n",
      "14) Karkowskiej None None\n",
      "15) .          None True\n",
      "16) Kurs       True None\n",
      "17) opracował  None None\n",
      "18) inż        None None\n",
      "19) .          None None\n",
      "20) Kwiatkowski None True\n"
     ]
    }
   ],
   "source": [
    "for idx, t in enumerate(docs):\n",
    "  print(f\"{idx}) {t.text:<10} {t.is_sent_start} {t.is_sent_end}\")"
   ]
  }
 ],
 "metadata": {
  "kernelspec": {
   "display_name": "Python 3",
   "language": "python",
   "name": "python3"
  },
  "language_info": {
   "codemirror_mode": {
    "name": "ipython",
    "version": 3
   },
   "file_extension": ".py",
   "mimetype": "text/x-python",
   "name": "python",
   "nbconvert_exporter": "python",
   "pygments_lexer": "ipython3",
   "version": "3.6.9"
  }
 },
 "nbformat": 4,
 "nbformat_minor": 4
}

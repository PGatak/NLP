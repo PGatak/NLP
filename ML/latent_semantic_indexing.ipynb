{
 "cells": [
  {
   "cell_type": "code",
   "execution_count": 1,
   "metadata": {},
   "outputs": [],
   "source": [
    "from gensim import corpora, models\n",
    "import numpy as np\n",
    "import spacy\n",
    "nlp = spacy.load(\"pl_core_news_sm\")"
   ]
  },
  {
   "cell_type": "code",
   "execution_count": 2,
   "metadata": {},
   "outputs": [],
   "source": [
    "corp = [\n",
    "    \"Samochód z napedem na cztery koła\",\n",
    "    \"Jan kupił nowy samochód\",\n",
    "    \"Adrian kupił nowy motor\",\n",
    "    \"Jest ciepło i nie pada\",\n",
    "    \"Już dawno nie było zimno\",\n",
    "    \"Jutro ma padać i być zimno\"\n",
    "]"
   ]
  },
  {
   "cell_type": "code",
   "execution_count": 3,
   "metadata": {},
   "outputs": [],
   "source": [
    "doc_corp = list(nlp.pipe(corp, disable=[\"ner\"]))"
   ]
  },
  {
   "cell_type": "code",
   "execution_count": 4,
   "metadata": {},
   "outputs": [
    {
     "data": {
      "text/plain": [
       "[Samochód z napedem na cztery koła,\n",
       " Jan kupił nowy samochód,\n",
       " Adrian kupił nowy motor,\n",
       " Jest ciepło i nie pada,\n",
       " Już dawno nie było zimno,\n",
       " Jutro ma padać i być zimno]"
      ]
     },
     "execution_count": 4,
     "metadata": {},
     "output_type": "execute_result"
    }
   ],
   "source": [
    "doc_corp"
   ]
  },
  {
   "cell_type": "code",
   "execution_count": 5,
   "metadata": {},
   "outputs": [],
   "source": [
    "norm_corp = [[token.lemma_ for token in doc] for doc in doc_corp]"
   ]
  },
  {
   "cell_type": "code",
   "execution_count": 6,
   "metadata": {},
   "outputs": [
    {
     "data": {
      "text/plain": [
       "[['samochód', 'z', 'napedem', 'na', 'cztery', 'kół'],\n",
       " ['Jany', 'kupić', 'nowy', 'samochód'],\n",
       " ['Adriana', 'kupić', 'nowy', 'motor'],\n",
       " ['być', 'ciepło', 'i', 'nie', 'padać'],\n",
       " ['już', 'dawno', 'nie', 'być', 'zimno'],\n",
       " ['jutro', 'mieć', 'padać', 'i', 'być', 'zimno']]"
      ]
     },
     "execution_count": 6,
     "metadata": {},
     "output_type": "execute_result"
    }
   ],
   "source": [
    "norm_corp"
   ]
  },
  {
   "cell_type": "code",
   "execution_count": 7,
   "metadata": {},
   "outputs": [],
   "source": [
    "dict1 = corpora.Dictionary()\n",
    "dict1.add_documents(norm_corp)"
   ]
  },
  {
   "cell_type": "code",
   "execution_count": 8,
   "metadata": {},
   "outputs": [
    {
     "data": {
      "text/plain": [
       "{'cztery': 0,\n",
       " 'kół': 1,\n",
       " 'na': 2,\n",
       " 'napedem': 3,\n",
       " 'samochód': 4,\n",
       " 'z': 5,\n",
       " 'Jany': 6,\n",
       " 'kupić': 7,\n",
       " 'nowy': 8,\n",
       " 'Adriana': 9,\n",
       " 'motor': 10,\n",
       " 'być': 11,\n",
       " 'ciepło': 12,\n",
       " 'i': 13,\n",
       " 'nie': 14,\n",
       " 'padać': 15,\n",
       " 'dawno': 16,\n",
       " 'już': 17,\n",
       " 'zimno': 18,\n",
       " 'jutro': 19,\n",
       " 'mieć': 20}"
      ]
     },
     "execution_count": 8,
     "metadata": {},
     "output_type": "execute_result"
    }
   ],
   "source": [
    "dict1.token2id"
   ]
  },
  {
   "cell_type": "code",
   "execution_count": 9,
   "metadata": {},
   "outputs": [
    {
     "data": {
      "text/plain": [
       "[[(0, 1), (1, 1), (2, 1), (3, 1), (4, 1), (5, 1)],\n",
       " [(4, 1), (6, 1), (7, 1), (8, 1)],\n",
       " [(7, 1), (8, 1), (9, 1), (10, 1)],\n",
       " [(11, 1), (12, 1), (13, 1), (14, 1), (15, 1)],\n",
       " [(11, 1), (14, 1), (16, 1), (17, 1), (18, 1)],\n",
       " [(11, 1), (13, 1), (15, 1), (18, 1), (19, 1), (20, 1)]]"
      ]
     },
     "execution_count": 9,
     "metadata": {},
     "output_type": "execute_result"
    }
   ],
   "source": [
    "bow_corp = [dict1.doc2bow(doc) for doc in norm_corp]; bow_corp"
   ]
  },
  {
   "cell_type": "code",
   "execution_count": 10,
   "metadata": {},
   "outputs": [
    {
     "data": {
      "text/plain": [
       "[[(0, 0.43129300109336677),\n",
       "  (1, 0.43129300109336677),\n",
       "  (2, 0.43129300109336677),\n",
       "  (3, 0.43129300109336677),\n",
       "  (4, 0.26444609287978765),\n",
       "  (5, 0.43129300109336677)],\n",
       " [(4, 0.4203338818488622),\n",
       "  (6, 0.6855350343414989),\n",
       "  (7, 0.4203338818488622),\n",
       "  (8, 0.4203338818488622)],\n",
       " [(7, 0.3696140760810379),\n",
       "  (8, 0.3696140760810379),\n",
       "  (9, 0.602814594019389),\n",
       "  (10, 0.602814594019389)],\n",
       " [(11, 0.25633990727938405),\n",
       "  (12, 0.6626290477555459),\n",
       "  (13, 0.4062891404761619),\n",
       "  (14, 0.4062891404761619),\n",
       "  (15, 0.4062891404761619)],\n",
       " [(11, 0.22710694740248566),\n",
       "  (14, 0.35995599528619177),\n",
       "  (16, 0.5870629426886774),\n",
       "  (17, 0.5870629426886774),\n",
       "  (18, 0.35995599528619177)],\n",
       " [(11, 0.21368506455142705),\n",
       "  (13, 0.3386828142781915),\n",
       "  (15, 0.3386828142781915),\n",
       "  (18, 0.3386828142781915),\n",
       "  (19, 0.5523678788296186),\n",
       "  (20, 0.5523678788296186)]]"
      ]
     },
     "execution_count": 10,
     "metadata": {},
     "output_type": "execute_result"
    }
   ],
   "source": [
    "tfidf = models.TfidfModel(bow_corp)\n",
    "tfidf_corp = tfidf[bow_corp]; list(tfidf_corp)"
   ]
  },
  {
   "cell_type": "code",
   "execution_count": 11,
   "metadata": {},
   "outputs": [],
   "source": [
    " lsi = models.LsiModel(bow_corp, id2word=dict1, num_topics=2)"
   ]
  },
  {
   "cell_type": "code",
   "execution_count": 12,
   "metadata": {},
   "outputs": [
    {
     "name": "stdout",
     "output_type": "stream",
     "text": [
      "Index 0\n",
      "-0.541*\"być\" + -0.389*\"padać\" + -0.389*\"i\" + -0.359*\"zimno\" + -0.334*\"nie\" + -0.207*\"jutro\" + -0.207*\"mieć\" + -0.181*\"ciepło\" + -0.152*\"dawno\" + -0.152*\"już\"\n",
      "--------------------------------------------------\n",
      "Index 1\n",
      "-0.494*\"samochód\" + -0.368*\"kupić\" + -0.368*\"nowy\" + -0.280*\"kół\" + -0.280*\"cztery\" + -0.280*\"na\" + -0.280*\"z\" + -0.280*\"napedem\" + -0.213*\"Jany\" + -0.155*\"motor\"\n",
      "--------------------------------------------------\n"
     ]
    }
   ],
   "source": [
    "for index, topic in lsi.show_topics(2):\n",
    "    print(\"Index\", index)\n",
    "    print(topic)\n",
    "    print(\"-\" * 50)"
   ]
  },
  {
   "cell_type": "code",
   "execution_count": 13,
   "metadata": {},
   "outputs": [],
   "source": [
    "lsi = models.LsiModel(tfidf_corp, id2word=dict1, num_topics=2)"
   ]
  },
  {
   "cell_type": "code",
   "execution_count": 14,
   "metadata": {},
   "outputs": [
    {
     "name": "stdout",
     "output_type": "stream",
     "text": [
      "Index 0\n",
      "0.379*\"padać\" + 0.379*\"i\" + 0.354*\"nie\" + 0.342*\"ciepło\" + 0.330*\"być\" + 0.313*\"zimno\" + 0.276*\"mieć\" + 0.276*\"jutro\" + 0.235*\"już\" + 0.235*\"dawno\"\n",
      "--------------------------------------------------\n",
      "Index 1\n",
      "0.471*\"nowy\" + 0.471*\"kupić\" + 0.420*\"Jany\" + 0.348*\"Adriana\" + 0.348*\"motor\" + 0.312*\"samochód\" + 0.089*\"napedem\" + 0.089*\"z\" + 0.089*\"cztery\" + 0.089*\"na\"\n",
      "--------------------------------------------------\n"
     ]
    }
   ],
   "source": [
    "for index, topic in lsi.show_topics(2):\n",
    "    print(\"Index\", index)\n",
    "    print(topic)\n",
    "    print(\"-\" * 50)"
   ]
  },
  {
   "cell_type": "code",
   "execution_count": 15,
   "metadata": {},
   "outputs": [
    {
     "name": "stdout",
     "output_type": "stream",
     "text": [
      "[(1, 0.27467631341167215)]\n",
      "[(1, 0.8154772433076705)]\n",
      "[(1, 0.7678255382593432)]\n",
      "[(0, 0.7635066840190263)]\n",
      "[(0, 0.5906874800527531)]\n",
      "[(0, 0.7386157639023291)]\n"
     ]
    }
   ],
   "source": [
    "for i in range(len(tfidf_corp)):\n",
    "    print(lsi[tfidf_corp[i]])"
   ]
  },
  {
   "cell_type": "code",
   "execution_count": 16,
   "metadata": {},
   "outputs": [
    {
     "data": {
      "text/plain": [
       "array([[ 1.22876939e-16,  8.90717392e-02],\n",
       "       [-2.27796465e-17,  8.90717392e-02],\n",
       "       [ 7.08853371e-17,  8.90717392e-02],\n",
       "       [-3.41297217e-18,  8.90717392e-02],\n",
       "       [ 3.58775324e-16,  3.12336718e-01],\n",
       "       [ 9.11904718e-18,  8.90717392e-02],\n",
       "       [ 3.96910521e-16,  4.20327508e-01],\n",
       "       [ 6.42976912e-16,  4.71104428e-01],\n",
       "       [ 6.13277924e-16,  4.71104428e-01],\n",
       "       [ 6.81159772e-16,  3.48010721e-01],\n",
       "       [ 7.51585300e-16,  3.48010721e-01],\n",
       "       [ 3.30103680e-01, -5.27069902e-16],\n",
       "       [ 3.42438860e-01, -7.05206727e-16],\n",
       "       [ 3.79286674e-01, -5.54213801e-16],\n",
       "       [ 3.53880706e-01, -7.00115802e-16],\n",
       "       [ 3.79286674e-01, -5.49644028e-16],\n",
       "       [ 2.34715712e-01, -3.60947679e-16],\n",
       "       [ 2.34715712e-01, -3.58880524e-16],\n",
       "       [ 3.13236528e-01, -3.21833871e-16],\n",
       "       [ 2.76151062e-01, -1.41165768e-16],\n",
       "       [ 2.76151062e-01, -1.87075627e-16]])"
      ]
     },
     "execution_count": 16,
     "metadata": {},
     "output_type": "execute_result"
    }
   ],
   "source": [
    "lsi.projection.u"
   ]
  },
  {
   "cell_type": "code",
   "execution_count": 17,
   "metadata": {},
   "outputs": [
    {
     "data": {
      "text/plain": [
       "array([1.21548649, 1.15325898])"
      ]
     },
     "execution_count": 17,
     "metadata": {},
     "output_type": "execute_result"
    }
   ],
   "source": [
    "lsi.projection.s"
   ]
  },
  {
   "cell_type": "code",
   "execution_count": 18,
   "metadata": {},
   "outputs": [],
   "source": [
    "new_doc = nlp(\"Wczoraj mocno padało\")\n",
    "new_doc = [token.lemma_ for token in new_doc]\n",
    "new_bow = dict1.doc2bow(new_doc)\n",
    "new_tfidf = tfidf[new_bow]"
   ]
  },
  {
   "cell_type": "code",
   "execution_count": 19,
   "metadata": {},
   "outputs": [
    {
     "data": {
      "text/plain": [
       "[(0, 0.37928667414787054)]"
      ]
     },
     "execution_count": 19,
     "metadata": {},
     "output_type": "execute_result"
    }
   ],
   "source": [
    "lsi[new_tfidf]"
   ]
  },
  {
   "cell_type": "code",
   "execution_count": 20,
   "metadata": {},
   "outputs": [
    {
     "data": {
      "text/plain": [
       "[(0, 0.689056561421721)]"
      ]
     },
     "execution_count": 20,
     "metadata": {},
     "output_type": "execute_result"
    }
   ],
   "source": [
    "lsi.add_documents([new_tfidf]); lsi[new_tfidf]"
   ]
  },
  {
   "cell_type": "code",
   "execution_count": 21,
   "metadata": {},
   "outputs": [
    {
     "data": {
      "text/plain": [
       "[[(1, 0.2746763134116721)],\n",
       " [(1, 0.8154772433076705)],\n",
       " [(1, 0.7678255382593432)],\n",
       " [(0, 0.757262494024756)],\n",
       " [(0, 0.46264487550352157)],\n",
       " [(0, 0.7112663204744019)]]"
      ]
     },
     "execution_count": 21,
     "metadata": {},
     "output_type": "execute_result"
    }
   ],
   "source": [
    "list(lsi[tfidf_corp])"
   ]
  },
  {
   "cell_type": "code",
   "execution_count": 22,
   "metadata": {},
   "outputs": [],
   "source": [
    "lsi.save(\"lsi.model\")"
   ]
  },
  {
   "cell_type": "code",
   "execution_count": 23,
   "metadata": {},
   "outputs": [],
   "source": [
    "load_lsi = models.LsiModel.load(\"lsi.model\")"
   ]
  }
 ],
 "metadata": {
  "kernelspec": {
   "display_name": "Python 3",
   "language": "python",
   "name": "python3"
  },
  "language_info": {
   "codemirror_mode": {
    "name": "ipython",
    "version": 3
   },
   "file_extension": ".py",
   "mimetype": "text/x-python",
   "name": "python",
   "nbconvert_exporter": "python",
   "pygments_lexer": "ipython3",
   "version": "3.6.9"
  }
 },
 "nbformat": 4,
 "nbformat_minor": 4
}

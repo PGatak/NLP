{
 "cells": [
  {
   "cell_type": "markdown",
   "metadata": {},
   "source": [
    "wersja demo: http://morfeusz.sgjp.pl/demo"
   ]
  },
  {
   "cell_type": "code",
   "execution_count": 1,
   "metadata": {},
   "outputs": [],
   "source": [
    "# Na potrzeby tej lekcji utorzymy 2 foldery\n",
    "import os\n",
    "os.makedirs(r'nlp_task/source', exist_ok=True)\n",
    "os.makedirs(r'nlp_task/predictions', exist_ok=True)"
   ]
  },
  {
   "cell_type": "markdown",
   "metadata": {},
   "source": [
    "Instalacja (Ubuntu / jeżeli masz problem z instalacją, to użyj terminala)"
   ]
  },
  {
   "cell_type": "code",
   "execution_count": 2,
   "metadata": {},
   "outputs": [
    {
     "data": {
      "text/plain": [
       "'\\n! wget -O - http://download.sgjp.pl/apt/sgjp.gpg.key|sudo apt-key add -\\n! sudo apt-add-repository http://download.sgjp.pl/apt/ubuntu\\n! sudo apt update\\n! sudo apt install libmorfeusz2\\n! sudo apt install python3-morfeusz2\\n'"
      ]
     },
     "execution_count": 2,
     "metadata": {},
     "output_type": "execute_result"
    }
   ],
   "source": [
    "\"\"\"\n",
    "! wget -O - http://download.sgjp.pl/apt/sgjp.gpg.key|sudo apt-key add -\n",
    "! sudo apt-add-repository http://download.sgjp.pl/apt/ubuntu\n",
    "! sudo apt update\n",
    "! sudo apt install libmorfeusz2\n",
    "! sudo apt install python3-morfeusz2\n",
    "\"\"\""
   ]
  },
  {
   "cell_type": "code",
   "execution_count": 3,
   "metadata": {},
   "outputs": [],
   "source": [
    "import morfeusz2\n",
    "m = morfeusz2.Morfeusz()"
   ]
  },
  {
   "cell_type": "code",
   "execution_count": 4,
   "metadata": {},
   "outputs": [
    {
     "name": "stdout",
     "output_type": "stream",
     "text": [
      "(0, 1, ('Mam', 'mieć', 'fin:sg:pri:imperf', [], []))\n",
      "(0, 1, ('Mam', 'mamić', 'impt:sg:sec:imperf', [], []))\n",
      "(0, 1, ('Mam', 'mama', 'subst:pl:gen:f', ['nazwa_pospolita'], []))\n",
      "(1, 2, ('piec', 'piec:s', 'subst:sg:nom.acc:m3', ['nazwa_pospolita'], []))\n",
      "(1, 2, ('piec', 'piec:v', 'inf:imperf', [], []))\n",
      "(2, 3, ('tort', 'tort', 'subst:sg:nom.acc:m3', ['nazwa_pospolita'], []))\n",
      "(2, 3, ('tort', 'tort', 'subst:sg:nom:m2', ['nazwa_pospolita'], ['pot.']))\n",
      "(3, 4, ('z', 'z:p', 'prep:gen:nwok', [], []))\n",
      "(3, 4, ('z', 'z:p', 'prep:inst:nwok', [], []))\n",
      "(3, 4, ('z', 'z:q', 'part:nwok', [], []))\n",
      "(4, 5, ('Adamem', 'Adam:s1', 'subst:sg:inst:m1', ['imię'], []))\n",
      "(4, 5, ('Adamem', 'Adam:s2', 'subst:sg:inst:m1', ['nazwisko'], []))\n",
      "(5, 6, ('.', '.', 'interp', [], []))\n"
     ]
    }
   ],
   "source": [
    "for a in m.analyse('Mam piec tort z Adamem.'):\n",
    "    print(a)"
   ]
  },
  {
   "cell_type": "markdown",
   "metadata": {},
   "source": [
    "* identyfikatory początku i końca segmentów w grafie\n",
    "* forma tekstowa\n",
    "* lemat\n",
    "* tag, np. 'subst:sg:nom:m2' = rzeczownik:liczba pojedyncza:mianownik:rodzaj męski zwierzęcy\n",
    "* kategoria nazw własnych, np. nazwa pospolita\n",
    "* kwalifikator dziedzinowy, np. pot. = wyraz potoczny"
   ]
  },
  {
   "cell_type": "markdown",
   "metadata": {},
   "source": [
    "Generowanie morfoligiczne"
   ]
  },
  {
   "cell_type": "code",
   "execution_count": 5,
   "metadata": {},
   "outputs": [
    {
     "name": "stdout",
     "output_type": "stream",
     "text": [
      "Lista form wyrazowych lematu bez:\n",
      "('bez', 'bez:s', 'subst:sg:nom.acc:m3', ['nazwa_pospolita'], ['bot.'])\n",
      "('bzu', 'bez:s', 'subst:sg:gen:m3', ['nazwa_pospolita'], ['bot.'])\n",
      "('bzowi', 'bez:s', 'subst:sg:dat:m3', ['nazwa_pospolita'], ['bot.'])\n",
      "('bzem', 'bez:s', 'subst:sg:inst:m3', ['nazwa_pospolita'], ['bot.'])\n",
      "('bzie', 'bez:s', 'subst:sg:loc:m3', ['nazwa_pospolita'], ['bot.'])\n",
      "('bzie', 'bez:s', 'subst:sg:voc:m3', ['nazwa_pospolita'], ['bot.'])\n",
      "('bzy', 'bez:s', 'subst:pl:nom.acc.voc:m3', ['nazwa_pospolita'], ['bot.'])\n",
      "('bzów', 'bez:s', 'subst:pl:gen:m3', ['nazwa_pospolita'], ['bot.'])\n",
      "('bzom', 'bez:s', 'subst:pl:dat:m3', ['nazwa_pospolita'], ['bot.'])\n",
      "('bzami', 'bez:s', 'subst:pl:inst:m3', ['nazwa_pospolita'], ['bot.'])\n",
      "('bzach', 'bez:s', 'subst:pl:loc:m3', ['nazwa_pospolita'], ['bot.'])\n",
      "('bez', 'bez:p', 'prep:gen:nwok', [], [])\n",
      "('beze', 'bez:p', 'prep:gen:wok', [], [])\n",
      "('b', 'bez', 'brev:pun', [], [])\n"
     ]
    }
   ],
   "source": [
    "print(\"Lista form wyrazowych lematu bez:\")\n",
    "for g in m.generate('bez'):\n",
    "    print(g)"
   ]
  },
  {
   "cell_type": "markdown",
   "metadata": {},
   "source": [
    "### Morfeusz SpaCy"
   ]
  },
  {
   "cell_type": "code",
   "execution_count": 6,
   "metadata": {},
   "outputs": [
    {
     "data": {
      "text/plain": [
       "'\\n! wget -P nlp_task/source http://mozart.ipipan.waw.pl/~alina/zasoby/data/pl_spacy_model_morfeusz-0.1.3.tar.gz\\n'"
      ]
     },
     "execution_count": 6,
     "metadata": {},
     "output_type": "execute_result"
    }
   ],
   "source": [
    "# pobierz model\n",
    "\"\"\"\n",
    "! wget -P nlp_task/source http://mozart.ipipan.waw.pl/~alina/zasoby/data/pl_spacy_model_morfeusz-0.1.3.tar.gz\n",
    "\"\"\""
   ]
  },
  {
   "cell_type": "code",
   "execution_count": 7,
   "metadata": {},
   "outputs": [
    {
     "data": {
      "text/plain": [
       "'\\n! python3 -m pip install nlp_task/source/pl_spacy_model_morfeusz-0.1.3.tar.gz\\n'"
      ]
     },
     "execution_count": 7,
     "metadata": {},
     "output_type": "execute_result"
    }
   ],
   "source": [
    "# zainstaluj model\n",
    "\"\"\"\n",
    "! python -m pip install nlp_task/source/pl_spacy_model_morfeusz-0.1.3.tar.gz\n",
    "\"\"\""
   ]
  },
  {
   "cell_type": "markdown",
   "metadata": {},
   "source": [
    "### Predykcja"
   ]
  },
  {
   "cell_type": "code",
   "execution_count": 8,
   "metadata": {},
   "outputs": [],
   "source": [
    "import spacy\n",
    "nlp = spacy.load(\"pl_spacy_model_morfeusz\")"
   ]
  },
  {
   "cell_type": "code",
   "execution_count": 9,
   "metadata": {},
   "outputs": [],
   "source": [
    "doc = nlp(\"Kupiliśmy nowy samochód.\")"
   ]
  },
  {
   "cell_type": "markdown",
   "metadata": {},
   "source": [
    "Moduł Morfeusz rozdzieli słowo \"kupiliśmy\""
   ]
  },
  {
   "cell_type": "code",
   "execution_count": 10,
   "metadata": {},
   "outputs": [
    {
     "name": "stdout",
     "output_type": "stream",
     "text": [
      "SEGMENT         LEMAT           UPOS            TAG            \n",
      "Kupili          kupić           VERB            praet:pl:m1:perf\n",
      "śmy             być             AUX             aglt:pl:pri:imperf:nwok\n",
      "nowy            nowy            ADJ             adj:sg:acc:m3:pos\n",
      "samochód        samochód        NOUN            subst:sg:acc:m3\n",
      ".               .               PUNCT           interp         \n"
     ]
    }
   ],
   "source": [
    "# Atrubuty tokenów https://spacy.io/api/token\n",
    "print(\"{:15} {:15} {:15} {:15}\".format('SEGMENT', 'LEMAT', 'UPOS', 'TAG'))\n",
    "for token in doc:\n",
    "    print(\"{:15} {:15} {:15} {:15}\".format(token.text, token.lemma_, token.pos_, ':'.join([token.tag_, token._.feats]).rstrip(\":\")))"
   ]
  },
  {
   "cell_type": "code",
   "execution_count": 11,
   "metadata": {},
   "outputs": [
    {
     "name": "stdout",
     "output_type": "stream",
     "text": [
      "--2021-01-03 09:45:22--  https://wolnelektury.pl/media/book/txt/korczak-krol-macius-na-wyspie-bezludnej.txt\n",
      "Resolving wolnelektury.pl (wolnelektury.pl)... 51.83.143.148, 2001:41d0:602:3294::\n",
      "Connecting to wolnelektury.pl (wolnelektury.pl)|51.83.143.148|:443... connected.\n",
      "HTTP request sent, awaiting response... 200 OK\n",
      "Length: 326911 (319K) [text/plain]\n",
      "Saving to: ‘nlp_task/source/korczak-krol-macius-na-wyspie-bezludnej.txt.2’\n",
      "\n",
      "korczak-krol-macius 100%[===================>] 319,25K  --.-KB/s    in 0,1s    \n",
      "\n",
      "2021-01-03 09:45:22 (3,26 MB/s) - ‘nlp_task/source/korczak-krol-macius-na-wyspie-bezludnej.txt.2’ saved [326911/326911]\n",
      "\n"
     ]
    }
   ],
   "source": [
    "!wget -P nlp_task/source https://wolnelektury.pl/media/book/txt/korczak-krol-macius-na-wyspie-bezludnej.txt"
   ]
  },
  {
   "cell_type": "code",
   "execution_count": 12,
   "metadata": {},
   "outputs": [
    {
     "name": "stdout",
     "output_type": "stream",
     "text": [
      "Janusz Korczak\r",
      "\r\n",
      "\r",
      "\r\n",
      "Król Maciuś na wyspie bezludnej\r",
      "\r\n",
      "\r",
      "\r\n",
      "ISBN 978-83-288-2376-1\r",
      "\r\n",
      "\r",
      "\r\n",
      "\r",
      "\r\n",
      "Ach, jak strasznie źle było Maciusiowi w więzieniu. Właściwie nie było mu źle — ale ciasno. Ciasno i nudno.\r",
      "\r\n",
      "\r",
      "\r\n",
      "Bo jeżeli ktoś siedzi w więzieniu — i mają rozstrzelać — wcale się nie nudzi. Ale Maciuś miał być wysłany na bezludną wyspę. Maciuś przegrał wojnę, był jeńcem królewskim i — zupełnie jak Napoleon będzie wysłany na wyspę.\r",
      "\r\n"
     ]
    }
   ],
   "source": [
    "!head -n 10 nlp_task/source/korczak-krol-macius-na-wyspie-bezludnej.txt"
   ]
  },
  {
   "cell_type": "code",
   "execution_count": 13,
   "metadata": {},
   "outputs": [
    {
     "name": "stdout",
     "output_type": "stream",
     "text": [
      "2021-01-03 09:45:27.416002: W tensorflow/stream_executor/platform/default/dso_loader.cc:59] Could not load dynamic library 'libcudart.so.10.1'; dlerror: libcudart.so.10.1: cannot open shared object file: No such file or directory\n",
      "2021-01-03 09:45:27.416082: I tensorflow/stream_executor/cuda/cudart_stub.cc:29] Ignore above cudart dlerror if you do not have a GPU set up on your machine.\n",
      "2021-01-03 09:45:39.059404: W tensorflow/stream_executor/platform/default/dso_loader.cc:59] Could not load dynamic library 'libcuda.so.1'; dlerror: libcuda.so.1: cannot open shared object file: No such file or directory\n",
      "2021-01-03 09:45:39.059459: W tensorflow/stream_executor/cuda/cuda_driver.cc:312] failed call to cuInit: UNKNOWN ERROR (303)\n",
      "2021-01-03 09:45:39.059528: I tensorflow/stream_executor/cuda/cuda_diagnostics.cc:156] kernel driver does not appear to be running on this host (adsum): /proc/driver/nvidia/version does not exist\n",
      "2021-01-03 09:45:39.060075: I tensorflow/core/platform/cpu_feature_guard.cc:142] This TensorFlow binary is optimized with oneAPI Deep Neural Network Library (oneDNN)to use the following CPU instructions in performance-critical operations:  AVX2 FMA\n",
      "To enable them in other operations, rebuild TensorFlow with the appropriate compiler flags.\n",
      "2021-01-03 09:45:39.095168: I tensorflow/core/platform/profile_utils/cpu_utils.cc:104] CPU Frequency: 2793530000 Hz\n",
      "2021-01-03 09:45:39.096301: I tensorflow/compiler/xla/service/service.cc:168] XLA service 0x6a569f0 initialized for platform Host (this does not guarantee that XLA will be used). Devices:\n",
      "2021-01-03 09:45:39.096350: I tensorflow/compiler/xla/service/service.cc:176]   StreamExecutor device (0): Host, Default Version\n",
      "\n",
      "real\t10m21,639s\n",
      "user\t13m27,715s\n",
      "sys\t0m26,446s\n"
     ]
    }
   ],
   "source": [
    "! time parse-as-conll --model_or_lang 'pl_spacy_model_morfeusz' --input_file 'nlp_task/source/korczak-krol-macius-na-wyspie-bezludnej.txt' --output_file 'nlp_task/predictions/file1.conllu' --include_headers"
   ]
  },
  {
   "cell_type": "code",
   "execution_count": 14,
   "metadata": {},
   "outputs": [
    {
     "name": "stdout",
     "output_type": "stream",
     "text": [
      "8\tPraw\tprawo\tNOUN\tsubst\t_\t7\tnmod:flat\t_\t_\r\n",
      "9\tDziecka\tdziecko\tNOUN\tsubst\t_\t8\tnmod:flat\t_\tSpaceAfter=No\r\n",
      "10\t.\t.\tPUNCT\tinterp\t_\t4\tpunct\t_\t_\r\n",
      "\r\n",
      "# sent_id = 5335\r\n",
      "# text = Reprodukcja cyfrowa wykonana przez Fundację Nowoczesna Polska.\r\n",
      "1\tReprodukcja\treprodukcja\tNOUN\tsubst\t_\t0\tROOT\t_\t_\r\n",
      "2\tcyfrowa\tcyfrowy\tADJ\tadj\t_\t1\tamod\t_\t_\r\n",
      "3\twykonana\twykonać\tVERB\tppas\t_\t1\tacl\t_\t_\r\n",
      "4\tprzez\tprzez\tADP\tprep\t_\t5\tcase\t_\t_\r\n",
      "5\tFundację\tfundacja\tNOUN\tsubst\t_\t3\tobl:agent\t_\t_\r\n",
      "6\tNowoczesna\tnowoczesny\tADJ\tadj\t_\t7\tamod:flat\t_\t_\r\n",
      "7\tPolska\tPolska\tNOUN\tsubst\t_\t5\tflat\t_\tSpaceAfter=No\r\n",
      "8\t.\t.\tPUNCT\tinterp\t_\t1\tpunct\t_\tSpaceAfter=No\r\n",
      "\r\n",
      "# sent_id = 5336\r\n",
      "# text = Opracowanie redakcyjne i przypisy: Paulina Choromańska, Agnieszka Gąsior, Wojciech Kotwica, Dorota Kowalska, Paweł Kozioł.\r\n",
      "1\tOpracowanie\topracowanie\tNOUN\tsubst\t_\t0\tROOT\t_\t_\r\n",
      "2\tredakcyjne\tredakcyjny\tADJ\tadj\t_\t1\tamod\t_\t_\r\n",
      "3\ti\ti\tCCONJ\tconj\t_\t4\tcc\t_\t_\r\n",
      "4\tprzypisy\tprzypis\tNOUN\tsubst\t_\t1\tconj\t_\tSpaceAfter=No\r\n",
      "5\t:\t:\tPUNCT\tinterp\t_\t1\tpunct\t_\t_\r\n",
      "6\tPaulina\tPaulina\tNOUN\tsubst\t_\t1\tnmod\t_\t_\r\n",
      "7\tChoromańska\tChoromańska\tNOUN\tsubst\t_\t6\tflat\t_\tSpaceAfter=No\r\n",
      "8\t,\t,\tPUNCT\tinterp\t_\t9\tpunct\t_\t_\r\n",
      "9\tAgnieszka\tAgnieszka\tNOUN\tsubst\t_\t6\tconj\t_\t_\r\n",
      "10\tGąsior\tGąsior\tNOUN\tsubst\t_\t9\tflat\t_\tSpaceAfter=No\r\n",
      "11\t,\t,\tPUNCT\tinterp\t_\t12\tpunct\t_\t_\r\n",
      "12\tWojciech\tWojciech\tNOUN\tsubst\t_\t6\tconj\t_\t_\r\n",
      "13\tKotwica\tkotwica\tNOUN\tsubst\t_\t12\tflat\t_\tSpaceAfter=No\r\n",
      "14\t,\t,\tPUNCT\tinterp\t_\t15\tpunct\t_\t_\r\n",
      "15\tDorota\tDorota\tNOUN\tsubst\t_\t6\tconj\t_\t_\r\n",
      "16\tKowalska\tKowalska\tNOUN\tsubst\t_\t15\tflat\t_\tSpaceAfter=No\r\n",
      "17\t,\t,\tPUNCT\tinterp\t_\t18\tpunct\t_\t_\r\n",
      "18\tPaweł\tPaweł\tNOUN\tsubst\t_\t6\tconj\t_\t_\r\n",
      "19\tKozioł\tKozioł\tNOUN\tsubst\t_\t18\tflat\t_\tSpaceAfter=No\r\n",
      "20\t.\t.\tPUNCT\tinterp\t_\t1\tpunct\t_\tSpaceAfter=No\r\n",
      "\r\n",
      "# sent_id = 5337\r\n",
      "# text = ISBN 978-83-288-2376-1\r\n",
      "1\tISBN\tISBN\tNOUN\tsubst\t_\t0\tROOT\t_\t_\r\n",
      "2\t978\t978\tNUM\tnum\t_\t1\tamod\t_\tSpaceAfter=No\r\n",
      "3\t-\t-\tPUNCT\tinterp\t_\t4\tpunct\t_\tSpaceAfter=No\r\n",
      "4\t83\t83\tNUM\tnum\t_\t2\tconj\t_\tSpaceAfter=No\r\n",
      "5\t-\t-\tPUNCT\tinterp\t_\t6\tpunct\t_\tSpaceAfter=No\r\n",
      "6\t288\t288\tNUM\tnum\t_\t2\tconj\t_\tSpaceAfter=No\r\n",
      "7\t-\t-\tPUNCT\tinterp\t_\t8\tpunct\t_\tSpaceAfter=No\r\n",
      "8\t2376\t2376\tNUM\tnum\t_\t2\tconj\t_\tSpaceAfter=No\r\n",
      "9\t-\t-\tPUNCT\tinterp\t_\t10\tpunct\t_\tSpaceAfter=No\r\n",
      "10\t1\t1\tNUM\tnum\t_\t2\tconj\t_\tSpaceAfter=No\r\n"
     ]
    }
   ],
   "source": [
    "! tail -n 50 nlp_task/predictions/file1.conllu"
   ]
  },
  {
   "cell_type": "code",
   "execution_count": null,
   "metadata": {},
   "outputs": [],
   "source": []
  }
 ],
 "metadata": {
  "kernelspec": {
   "display_name": "Python 3",
   "language": "python",
   "name": "python3"
  },
  "language_info": {
   "codemirror_mode": {
    "name": "ipython",
    "version": 3
   },
   "file_extension": ".py",
   "mimetype": "text/x-python",
   "name": "python",
   "nbconvert_exporter": "python",
   "pygments_lexer": "ipython3",
   "version": "3.6.9"
  }
 },
 "nbformat": 4,
 "nbformat_minor": 4
}

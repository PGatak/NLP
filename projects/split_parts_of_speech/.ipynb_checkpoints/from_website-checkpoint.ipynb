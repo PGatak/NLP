{
 "cells": [
  {
   "cell_type": "code",
   "execution_count": 11,
   "metadata": {},
   "outputs": [],
   "source": [
    "from collections import Counter\n",
    "import spacy"
   ]
  },
  {
   "cell_type": "code",
   "execution_count": null,
   "metadata": {},
   "outputs": [],
   "source": [
    "nlp = spacy.load(\"pl_core_news_sm\")"
   ]
  },
  {
   "cell_type": "code",
   "execution_count": 13,
   "metadata": {
    "scrolled": true
   },
   "outputs": [
    {
     "name": "stdout",
     "output_type": "stream",
     "text": [
      "--2021-01-24 11:26:53--  https://wolnelektury.pl/media/book/txt/latarnik.txt\n",
      "Resolving wolnelektury.pl (wolnelektury.pl)... 51.83.143.148, 2001:41d0:602:3294::\n",
      "Connecting to wolnelektury.pl (wolnelektury.pl)|51.83.143.148|:443... connected.\n",
      "HTTP request sent, awaiting response... 200 OK\n",
      "Length: 34747 (34K) [text/plain]\n",
      "Saving to: ‘Source/latarnik.txt’\n",
      "\n",
      "latarnik.txt        100%[===================>]  33,93K  --.-KB/s    in 0,002s  \n",
      "\n",
      "2021-01-24 11:26:53 (19,4 MB/s) - ‘Source/latarnik.txt’ saved [34747/34747]\n",
      "\n"
     ]
    }
   ],
   "source": [
    "!wget https://wolnelektury.pl/media/book/txt/latarnik.txt -P Source/"
   ]
  },
  {
   "cell_type": "code",
   "execution_count": 14,
   "metadata": {},
   "outputs": [],
   "source": [
    "text = open(\"Source/latarnik.txt\",'r').read()"
   ]
  },
  {
   "cell_type": "code",
   "execution_count": 15,
   "metadata": {},
   "outputs": [],
   "source": [
    "doc = nlp(text)\n",
    "all_words = [token.text for token in doc]\n",
    "words = [token.text for token in doc if token.is_stop != True and token.is_punct != True]"
   ]
  },
  {
   "cell_type": "code",
   "execution_count": 16,
   "metadata": {},
   "outputs": [
    {
     "data": {
      "text/plain": [
       "[('\\n\\n', 60),\n",
       " ('\\n', 15),\n",
       " ('latarni', 14),\n",
       " ('Skawiński', 12),\n",
       " ('wieży', 11),\n",
       " ('stary', 10),\n",
       " ('oczy', 10),\n",
       " ('Aspinwall', 8),\n",
       " ('swoją', 8),\n",
       " ('człowiek', 7)]"
      ]
     },
     "execution_count": 16,
     "metadata": {},
     "output_type": "execute_result"
    }
   ],
   "source": [
    "word_freq = Counter(words)\n",
    "common_words = word_freq.most_common(10)\n",
    "common_words"
   ]
  },
  {
   "cell_type": "code",
   "execution_count": 17,
   "metadata": {},
   "outputs": [
    {
     "data": {
      "text/plain": [
       "[('SUBST', 1459),\n",
       " ('INTERP', 1022),\n",
       " ('ADJ', 698),\n",
       " ('PREP', 565),\n",
       " ('PRAET', 435),\n",
       " ('QUB', 348),\n",
       " ('CONJ', 289),\n",
       " ('ADV', 264),\n",
       " ('FIN', 191),\n",
       " ('PPRON3', 139)]"
      ]
     },
     "execution_count": 17,
     "metadata": {},
     "output_type": "execute_result"
    }
   ],
   "source": [
    "all_classes = [token.tag_ for token in doc]\n",
    "word_freq = Counter(all_classes)\n",
    "common_words = word_freq.most_common(10)\n",
    "common_words"
   ]
  },
  {
   "cell_type": "code",
   "execution_count": 18,
   "metadata": {},
   "outputs": [
    {
     "name": "stdout",
     "output_type": "stream",
     "text": [
      "Top PRAET\n",
      "[('było', 15), ('miał', 11), ('był', 10), ('była', 8), ('mógł', 7), ('widział', 6), ('stał', 5), ('były', 5), ('słyszał', 5), ('został', 4)]\n",
      "Top GER\n",
      "[('wywieszaniem', 1), ('uchybienie', 1), ('roztkliwiania', 1), ('zadumaniem', 1), ('zajęcia', 1), ('rozbiciu', 1), ('wyjściu', 1), ('znikanie', 1), ('zawiązaniu', 1), ('bicie', 1)]\n",
      "Top PRED\n",
      "[('to', 19), ('trzeba', 5), ('widać', 4), ('To', 3), ('niepodobna', 1), ('można', 1), ('Trzeba', 1)]\n",
      "Top SIEBIE\n",
      "[('sobie', 7), ('siebie', 4), ('sobą', 4)]\n",
      "Top PPRON3\n",
      "[('jego', 32), ('go', 22), ('mu', 19), ('on', 11), ('nim', 11), ('niego', 7), ('ich', 6), ('nich', 6), ('ją', 4), ('nią', 4)]\n",
      "Top PACT\n",
      "[('stojącej', 1), ('idących', 1), ('podnoszących', 1), ('lubiącym', 1), ('przywożący', 1), ('mającej', 1), ('mający', 1), ('tworzącą', 1), ('zamieszkującymi', 1), ('kursującym', 1)]\n",
      "Top INTERJ\n",
      "[('Hm', 2), ('ha', 2), ('Hej', 2), ('Ach', 1), ('tik', 1), ('U', 1), ('Oj', 1), ('precz', 1)]\n",
      "Top BURK\n",
      "[('dala', 1), ('oddali', 1)]\n",
      "Top PPAS\n",
      "[('wypisany', 2), ('opracowany', 2), ('osnute', 1), ('spłukany', 1), ('ogrzewanych', 1), ('rezydującego', 1), ('różnokolorowych', 1), ('wyprostowany', 1), ('spaloną', 1), ('przygnębiona', 1)]\n",
      "Top INTERP\n",
      "[(',', 495), ('.', 288), ('—', 56), (':', 31), ('!', 31), (';', 27), ('…', 23), ('?', 19), ('-', 15), ('„', 10)]\n",
      "Top WINIEN\n",
      "[('powinien', 1)]\n",
      "Top ADJP\n",
      "[('prostu', 3), ('bliska', 2), ('prawo', 1), ('lewo', 1), ('wolna', 1), ('wysoka', 1)]\n",
      "Top SUBST\n",
      "[('latarni', 14), ('wieży', 11), ('Skawiński', 11), ('tym', 10), ('oczy', 10), ('Aspinwall', 8), ('to', 7), ('człowiek', 7), ('czasie', 6), ('dzień', 6)]\n",
      "Top PREP\n",
      "[('w', 121), ('na', 107), ('z', 68), ('do', 48), ('po', 24), ('W', 18), ('o', 14), ('nad', 12), ('za', 12), ('wśród', 11)]\n",
      "Top BEDZIE\n",
      "[('będzie', 2), ('będziesz', 1)]\n",
      "Top QUB\n",
      "[('się', 136), ('nie', 47), ('już', 19), ('tylko', 17), ('jeszcze', 15), ('Nie', 8), ('jakby', 8), ('prawie', 7), ('nawet', 6), ('i', 6)]\n",
      "Top PANT\n",
      "[('zostawiwszy', 1), ('siadłszy', 1), ('zeszedłszy', 1), ('Wypłakawszy', 1)]\n",
      "Top CONJ\n",
      "[('i', 164), ('a', 30), ('ale', 17), ('zaś', 12), ('to', 12), ('Ale', 7), ('więc', 6), ('jednak', 6), ('lub', 4), ('ani', 4)]\n",
      "Top ADV\n",
      "[('jak', 22), ('tak', 15), ('gdy', 15), ('teraz', 10), ('coraz', 7), ('wówczas', 6), ('zupełnie', 6), ('Potem', 5), ('bardzo', 5), ('tam', 4)]\n",
      "Top BREV\n",
      "[('J', 1), ('Mr', 1), ('etc', 1), ('PL', 1)]\n",
      "Top IMPS\n",
      "[('przypuszczano', 1), ('znaleziono', 1), ('pytano', 1), ('ukazywano', 1), ('łono', 1), ('widziano', 1)]\n",
      "Top NUM\n",
      "[('kilka', 9), ('więcej', 5), ('978', 2), ('83', 2), ('288', 2), ('2814', 2), ('8', 2), ('dwunastu', 2), ('dwa', 2), ('ile', 2)]\n",
      "Top INF\n",
      "[('być', 8), ('tracić', 2), ('czekać', 2), ('podejść', 1), ('obsadzić', 1), ('znaleźć', 1), ('przyjmować', 1), ('opuszczać', 1), ('dostać', 1), ('przejść', 1)]\n",
      "Top _SP\n",
      "[('\\n\\n', 60), ('\\n', 15), ('\\n\\n\\n', 4), ('\\n\\n\\n\\n\\n', 3)]\n",
      "Top COMP\n",
      "[('że', 53), ('bo', 8), ('by', 7), ('jakby', 4), ('jeśli', 3), ('co', 3), ('ponieważ', 2), ('Jeśli', 2), ('bowiem', 2), ('iż', 2)]\n",
      "Top PCON\n",
      "[('chcąc', 1), ('sądząc', 1), ('Spoglądając', 1), ('żywiąc', 1), ('rycząc', 1), ('oblizując', 1), ('korzystając', 1), ('ciągnąc', 1), ('wierząc', 1), ('wywdzięczając', 1)]\n",
      "Top PPRON12\n",
      "[('was', 3), ('mi', 2), ('cię', 2), ('ty', 1), ('tobie', 1), ('Ty', 1), ('mnie', 1), ('nas', 1), ('wam', 1), ('mną', 1)]\n",
      "Top IMPT\n",
      "[('służyliście', 1), ('Byliście', 1), ('zaznałem', 1), ('wydajecie', 1), ('przenoś', 1), ('Wstawajcie', 1), ('Pójdziecie', 1), ('Siadajcie', 1)]\n",
      "Top ADJC\n",
      "[('pełen', 1)]\n",
      "Top FIN\n",
      "[('jest', 26), ('może', 4), ('widzi', 4), ('stoi', 3), ('ma', 3), ('Jestem', 3), ('są', 3), ('żyje', 3), ('bywa', 2), ('jesteście', 2)]\n",
      "Top XXX\n",
      "[('bye', 1), ('koi', 1)]\n",
      "Top ADJ\n",
      "[('sam', 11), ('które', 10), ('tych', 8), ('tej', 8), ('swoją', 8), ('którym', 7), ('ten', 6), ('swej', 5), ('stary', 5), ('który', 5)]\n"
     ]
    }
   ],
   "source": [
    "for c in set(all_classes):\n",
    "    class_words = [token.text for token in doc if token.tag_ == c]\n",
    "    word_freq = Counter(class_words)\n",
    "    print(\"Top \" + c)\n",
    "    common_words = word_freq.most_common(10)\n",
    "    print(common_words)"
   ]
  },
  {
   "cell_type": "code",
   "execution_count": null,
   "metadata": {},
   "outputs": [],
   "source": []
  }
 ],
 "metadata": {
  "kernelspec": {
   "display_name": "Python 3",
   "language": "python",
   "name": "python3"
  },
  "language_info": {
   "codemirror_mode": {
    "name": "ipython",
    "version": 3
   },
   "file_extension": ".py",
   "mimetype": "text/x-python",
   "name": "python",
   "nbconvert_exporter": "python",
   "pygments_lexer": "ipython3",
   "version": "3.6.9"
  }
 },
 "nbformat": 4,
 "nbformat_minor": 4
}

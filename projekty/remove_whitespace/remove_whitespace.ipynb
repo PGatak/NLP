{
 "cells": [
  {
   "cell_type": "code",
   "execution_count": 7,
   "metadata": {},
   "outputs": [],
   "source": [
    "import re\n",
    "import spacy"
   ]
  },
  {
   "cell_type": "code",
   "execution_count": 3,
   "metadata": {},
   "outputs": [],
   "source": [
    "nlp = spacy.load(\"pl_core_news_sm\")"
   ]
  },
  {
   "cell_type": "code",
   "execution_count": 18,
   "metadata": {},
   "outputs": [
    {
     "name": "stdout",
     "output_type": "stream",
     "text": [
      "[Tekst]\n",
      "[ ]\n",
      "[z]\n",
      "[   ]\n",
      "[dużą]\n",
      "[ilością]\n",
      "[  ]\n",
      "[biaych]\n",
      "[znaków]\n",
      "[.]\n",
      "[\n",
      "]\n",
      "[Nowy]\n",
      "[          ]\n",
      "[wiersz]\n",
      "[                      ]\n",
      "[.]\n"
     ]
    }
   ],
   "source": [
    "text =\"\"\"Tekst  z    dużą ilością   biaych znaków.\n",
    "Nowy           wiersz                       .\"\"\"\n",
    "\n",
    "for t in nlp(text):\n",
    "    print(f\"[{t}]\")"
   ]
  },
  {
   "cell_type": "code",
   "execution_count": 19,
   "metadata": {},
   "outputs": [
    {
     "name": "stdout",
     "output_type": "stream",
     "text": [
      "[Tekst]\n",
      "[z]\n",
      "[dużą]\n",
      "[ilością]\n",
      "[biaych]\n",
      "[znaków]\n",
      "[.]\n",
      "[Nowy]\n",
      "[wiersz]\n",
      "[.]\n"
     ]
    }
   ],
   "source": [
    "# sekwencję dodowlnej liczby białych znaków zamień na spację\n",
    "text_fixed = re.sub(\"\\s+\", \" \", text)\n",
    "\n",
    "for t in nlp(text_fixed):\n",
    "    print(f\"[{t}]\")"
   ]
  },
  {
   "cell_type": "code",
   "execution_count": 23,
   "metadata": {},
   "outputs": [
    {
     "name": "stdout",
     "output_type": "stream",
     "text": [
      "-- row: 1 --\n",
      "[Tekst]\n",
      "[z]\n",
      "[dużą]\n",
      "[ilością]\n",
      "[biaych]\n",
      "[znaków]\n",
      "[.]\n",
      "-- row: 2 --\n",
      "[Nowy]\n",
      "[wiersz]\n",
      "[.]\n"
     ]
    }
   ],
   "source": [
    "# podziel tekst po sekwencji dodowlnej liczby białych znaków zawierających minimum 1 znak końca linii\n",
    "row_counter = 0\n",
    "for line in re.split(\"\\s*\\n+\\s*\", text):\n",
    "    row_counter += 1\n",
    "    print(f\"-- row: {row_counter} --\")\n",
    "    if line.strip() == \"\":\n",
    "        continue\n",
    "    # sekwencję dodowlnej liczby białych znaków zamień na spację\n",
    "    text_line = re.sub(\"\\s+\", \" \", line)\n",
    "\n",
    "    for t in nlp(text_line):\n",
    "        print(f\"[{t}]\")\n"
   ]
  }
 ],
 "metadata": {
  "kernelspec": {
   "display_name": "Python 3",
   "language": "python",
   "name": "python3"
  },
  "language_info": {
   "codemirror_mode": {
    "name": "ipython",
    "version": 3
   },
   "file_extension": ".py",
   "mimetype": "text/x-python",
   "name": "python",
   "nbconvert_exporter": "python",
   "pygments_lexer": "ipython3",
   "version": "3.6.9"
  }
 },
 "nbformat": 4,
 "nbformat_minor": 4
}

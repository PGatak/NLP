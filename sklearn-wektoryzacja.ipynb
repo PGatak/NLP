{
 "cells": [
  {
   "cell_type": "code",
   "execution_count": 4,
   "metadata": {},
   "outputs": [],
   "source": [
    "from sklearn.feature_extraction.text import CountVectorizer\n",
    "vectorizer = CountVectorizer()\n",
    "\n",
    "import spacy\n",
    "nlp = spacy.load('pl_core_news_sm')"
   ]
  },
  {
   "cell_type": "code",
   "execution_count": 5,
   "metadata": {},
   "outputs": [],
   "source": [
    "texts = [\n",
    "    \"Agnieszka ma nowy samochód\",\n",
    "    \"Agnieszka z Warszawy ma piękny nowy samochód\",\n",
    "    \"Arek ma nowy rower\",\n",
    "    \"Samochód Agnieszki jest nowy\"\n",
    "]"
   ]
  },
  {
   "cell_type": "markdown",
   "metadata": {},
   "source": [
    "Podział tekstu na tokeny"
   ]
  },
  {
   "cell_type": "code",
   "execution_count": 8,
   "metadata": {},
   "outputs": [
    {
     "data": {
      "text/plain": [
       "[Agnieszka ma nowy samochód,\n",
       " Agnieszka z Warszawy ma piękny nowy samochód,\n",
       " Arek ma nowy rower,\n",
       " Samochód Agnieszki jest nowy]"
      ]
     },
     "execution_count": 8,
     "metadata": {},
     "output_type": "execute_result"
    }
   ],
   "source": [
    "docs_lemma = [nlp(text) for text in texts]\n",
    "docs_lemma"
   ]
  },
  {
   "cell_type": "markdown",
   "metadata": {},
   "source": [
    "Przekształć listę do zdania, poprzednio dla każdego elementu stwórz lemat rzutowany do małych liter"
   ]
  },
  {
   "cell_type": "code",
   "execution_count": 10,
   "metadata": {},
   "outputs": [
    {
     "name": "stdout",
     "output_type": "stream",
     "text": [
      "['agnieszka mieć nowy samochód', 'agnieszka z warszawa mieć piękny nowy samochód', 'arka mieć nowy rower', 'samochód agnieszka być nowy']\n"
     ]
    }
   ],
   "source": [
    "sentences = [\" \".join([t.lemma_.lower() for t in doc]) for doc in docs_lemma]\n",
    "print(sentences)"
   ]
  },
  {
   "cell_type": "markdown",
   "metadata": {},
   "source": [
    "Stwórz listę cech i zamień do postaci wektora"
   ]
  },
  {
   "cell_type": "code",
   "execution_count": 11,
   "metadata": {},
   "outputs": [
    {
     "name": "stdout",
     "output_type": "stream",
     "text": [
      "[[1 0 0 1 1 0 0 1 0]\n",
      " [1 0 0 1 1 1 0 1 1]\n",
      " [0 1 0 1 1 0 1 0 0]\n",
      " [1 0 1 0 1 0 0 1 0]]\n"
     ]
    }
   ],
   "source": [
    "X = vectorizer.fit_transform(sentences)\n",
    "print(X.toarray())"
   ]
  },
  {
   "cell_type": "markdown",
   "metadata": {},
   "source": [
    "Sprawdź cechy poszczególnych kolumn (token \"agnieszka\" występuje w wektorze o indeksie 0, 2, 3)"
   ]
  },
  {
   "cell_type": "code",
   "execution_count": 12,
   "metadata": {
    "scrolled": true
   },
   "outputs": [
    {
     "data": {
      "text/plain": [
       "['agnieszka',\n",
       " 'arka',\n",
       " 'być',\n",
       " 'mieć',\n",
       " 'nowy',\n",
       " 'piękny',\n",
       " 'rower',\n",
       " 'samochód',\n",
       " 'warszawa']"
      ]
     },
     "execution_count": 12,
     "metadata": {},
     "output_type": "execute_result"
    }
   ],
   "source": [
    "vectorizer.get_feature_names()"
   ]
  },
  {
   "cell_type": "markdown",
   "metadata": {},
   "source": [
    "* Przykład miary działającej na wektorach - miara cosinusowa\n",
    "* Miara przyjmuje 2 tablice z wektorami i zwraca macierz.\n",
    "* Wartość podobieństwa liczona jest na przecięciu wiersza i kolumny.\n",
    "* Na przekontnej wartość liczona jest dla tych samych dokumentów, dlatego podobieństwo wynosi 1."
   ]
  },
  {
   "cell_type": "code",
   "execution_count": 14,
   "metadata": {},
   "outputs": [
    {
     "data": {
      "text/plain": [
       "array([[1.        , 0.81649658, 0.5       , 0.75      ],\n",
       "       [0.81649658, 1.        , 0.40824829, 0.61237244],\n",
       "       [0.5       , 0.40824829, 1.        , 0.25      ],\n",
       "       [0.75      , 0.61237244, 0.25      , 1.        ]])"
      ]
     },
     "execution_count": 14,
     "metadata": {},
     "output_type": "execute_result"
    }
   ],
   "source": [
    "from sklearn.metrics.pairwise import cosine_similarity\n",
    "\n",
    "sim = cosine_similarity(X, X)\n",
    "sim"
   ]
  },
  {
   "cell_type": "markdown",
   "metadata": {},
   "source": [
    "Podsumowując:\n",
    "* Dla dokumnetu \"Agnieszka ma nowy samochód\"\n",
    "* podobieństwo \"Agnieszka z Warszawy ma piękny nowy samochód\" wynosi 0.81649658\n",
    "* podobieństwo \"Arek ma nowy rower\" wynosi 0.5\n",
    "* podobieństwo \"Samochód Agnieszki jest nowy\" wynosi 0.25"
   ]
  },
  {
   "cell_type": "markdown",
   "metadata": {},
   "source": [
    "#### Sprawdź również Bag-of-Words z użyciem bibliotek spaCy i nltk"
   ]
  },
  {
   "cell_type": "code",
   "execution_count": null,
   "metadata": {},
   "outputs": [],
   "source": []
  }
 ],
 "metadata": {
  "kernelspec": {
   "display_name": "Python 3",
   "language": "python",
   "name": "python3"
  },
  "language_info": {
   "codemirror_mode": {
    "name": "ipython",
    "version": 3
   },
   "file_extension": ".py",
   "mimetype": "text/x-python",
   "name": "python",
   "nbconvert_exporter": "python",
   "pygments_lexer": "ipython3",
   "version": "3.6.9"
  }
 },
 "nbformat": 4,
 "nbformat_minor": 4
}
